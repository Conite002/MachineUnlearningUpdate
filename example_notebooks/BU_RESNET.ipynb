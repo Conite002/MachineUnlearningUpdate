{
 "cells": [
  {
   "cell_type": "markdown",
   "metadata": {},
   "source": [
    "# Backdoor Unlearning\n",
    "\n",
    "## Outline\n",
    "\n",
    "1. Experimental setup (generating configs)\n",
    "2. Clean model training\n",
    "3. Poisoned model training\n",
    "4. First-order unlearning\n",
    "5. Second-order unlearning\n",
    "6. Visualizing results\n"
   ]
  },
  {
   "cell_type": "markdown",
   "metadata": {},
   "source": [
    "## Experimental Setup\n",
    "\n",
    "- All configurations to test are defined in the `[train|poison|unlearn].json` files (see below).\n",
    "- If parameters are passed as list, all their combinations are tested in a grid-search manner.\n",
    "- Only a single combination is provided for this demo. The original combinations are in `Applications/Poisoning/configs`\n",
    "- The function generates directories and configuration files for each combination. They are later used by an evaluation script to run the experiment. This allows for parallelization and distributed execution."
   ]
  },
  {
   "cell_type": "code",
   "execution_count": 1,
   "metadata": {},
   "outputs": [],
   "source": [
    "import sys\n",
    "sys.path.append('../')\n"
   ]
  },
  {
   "cell_type": "code",
   "execution_count": 2,
   "metadata": {},
   "outputs": [],
   "source": [
    "# only if you are using CUDA devices\n",
    "import os\n",
    "os.environ[\"CUDA_VISIBLE_DEVICES\"]=\"1\"\n"
   ]
  },
  {
   "cell_type": "code",
   "execution_count": 3,
   "metadata": {},
   "outputs": [],
   "source": [
    "from conf import BASE_DIR\n",
    "from Applications.Poisoning.gen_configs import main as gen_configs\n",
    "\n",
    "model_folder = BASE_DIR/'models'/'poisoning'\n",
    "train_conf = BASE_DIR/'Applications'/'Poisoning'/'configs'/'demo'/'train.json'\n",
    "poison_conf = BASE_DIR/'Applications'/'Poisoning'/'configs'/'demo'/'poison.json'\n",
    "unlearn_conf = BASE_DIR/'Applications'/'Poisoning'/'configs'/'demo'/'unlearn.json'\n",
    "\n",
    "gen_configs(model_folder, train_conf, poison_conf, unlearn_conf)"
   ]
  },
  {
   "cell_type": "markdown",
   "metadata": {},
   "source": [
    "## Clean Model Training\n",
    "\n",
    "- Train a clean model for reference."
   ]
  },
  {
   "cell_type": "code",
   "execution_count": 4,
   "metadata": {},
   "outputs": [
    {
     "name": "stderr",
     "output_type": "stream",
     "text": [
      "2024-07-18 01:11:57.119816: W tensorflow/stream_executor/platform/default/dso_loader.cc:64] Could not load dynamic library 'libcudart.so.11.0'; dlerror: libcudart.so.11.0: cannot open shared object file: No such file or directory; LD_LIBRARY_PATH: /home/team1337/.local/easybuild_new/software/OpenMPI/4.0.5-GCC-10.2.0/lib:/home/team1337/.local/easybuild_new/software/PMIx/3.1.5-GCCcore-10.2.0/lib:/home/team1337/.local/easybuild_new/software/libfabric/1.11.0-GCCcore-10.2.0/lib:/home/team1337/.local/easybuild_new/software/UCX/1.9.0-GCCcore-10.2.0/lib:/home/team1337/.local/easybuild_new/software/libevent/2.1.12-GCCcore-10.2.0/lib:/home/team1337/.local/easybuild_new/software/hwloc/2.2.0-GCCcore-10.2.0/lib:/home/team1337/.local/easybuild_new/software/libpciaccess/0.16-GCCcore-10.2.0/lib:/home/team1337/.local/easybuild_new/software/libxml2/2.9.10-GCCcore-10.2.0/lib:/home/team1337/.local/easybuild_new/software/XZ/5.2.5-GCCcore-10.2.0/lib:/home/team1337/.local/easybuild_new/software/numactl/2.0.13-GCCcore-10.2.0/lib:/home/team1337/.local/easybuild_new/software/binutils/2.35-GCCcore-10.2.0/lib:/home/team1337/.local/easybuild_new/software/zlib/1.2.11-GCCcore-10.2.0/lib:/home/team1337/.local/easybuild_new/software/GCCcore/10.2.0/lib64\n",
      "2024-07-18 01:11:57.119863: I tensorflow/stream_executor/cuda/cudart_stub.cc:29] Ignore above cudart dlerror if you do not have a GPU set up on your machine.\n"
     ]
    },
    {
     "name": "stdout",
     "output_type": "stream",
     "text": [
      "model_filename Cifar10_VGG16_best_model.hdf5\n"
     ]
    },
    {
     "name": "stderr",
     "output_type": "stream",
     "text": [
      "2024-07-18 01:12:15.467202: W tensorflow/stream_executor/platform/default/dso_loader.cc:64] Could not load dynamic library 'libcuda.so.1'; dlerror: libcuda.so.1: cannot open shared object file: No such file or directory; LD_LIBRARY_PATH: /home/team1337/.local/easybuild_new/software/OpenMPI/4.0.5-GCC-10.2.0/lib:/home/team1337/.local/easybuild_new/software/PMIx/3.1.5-GCCcore-10.2.0/lib:/home/team1337/.local/easybuild_new/software/libfabric/1.11.0-GCCcore-10.2.0/lib:/home/team1337/.local/easybuild_new/software/UCX/1.9.0-GCCcore-10.2.0/lib:/home/team1337/.local/easybuild_new/software/libevent/2.1.12-GCCcore-10.2.0/lib:/home/team1337/.local/easybuild_new/software/hwloc/2.2.0-GCCcore-10.2.0/lib:/home/team1337/.local/easybuild_new/software/libpciaccess/0.16-GCCcore-10.2.0/lib:/home/team1337/.local/easybuild_new/software/libxml2/2.9.10-GCCcore-10.2.0/lib:/home/team1337/.local/easybuild_new/software/XZ/5.2.5-GCCcore-10.2.0/lib:/home/team1337/.local/easybuild_new/software/numactl/2.0.13-GCCcore-10.2.0/lib:/home/team1337/.local/easybuild_new/software/binutils/2.35-GCCcore-10.2.0/lib:/home/team1337/.local/easybuild_new/software/zlib/1.2.11-GCCcore-10.2.0/lib:/home/team1337/.local/easybuild_new/software/GCCcore/10.2.0/lib64\n",
      "2024-07-18 01:12:15.467271: W tensorflow/stream_executor/cuda/cuda_driver.cc:269] failed call to cuInit: UNKNOWN ERROR (303)\n",
      "2024-07-18 01:12:15.467308: I tensorflow/stream_executor/cuda/cuda_diagnostics.cc:156] kernel driver does not appear to be running on this host (node02): /proc/driver/nvidia/version does not exist\n",
      "2024-07-18 01:12:15.467812: I tensorflow/core/platform/cpu_feature_guard.cc:151] This TensorFlow binary is optimized with oneAPI Deep Neural Network Library (oneDNN) to use the following CPU instructions in performance-critical operations:  AVX2 FMA\n",
      "To enable them in other operations, rebuild TensorFlow with the appropriate compiler flags.\n"
     ]
    },
    {
     "name": "stdout",
     "output_type": "stream",
     "text": [
      "Model: \"sequential\"\n",
      "_________________________________________________________________\n",
      " Layer (type)                Output Shape              Param #   \n",
      "=================================================================\n",
      " conv2d (Conv2D)             (None, 32, 32, 128)       3584      \n",
      "                                                                 \n",
      " batch_normalization (BatchN  (None, 32, 32, 128)      512       \n",
      " ormalization)                                                   \n",
      "                                                                 \n",
      " conv2d_1 (Conv2D)           (None, 32, 32, 128)       147584    \n",
      "                                                                 \n",
      " batch_normalization_1 (Batc  (None, 32, 32, 128)      512       \n",
      " hNormalization)                                                 \n",
      "                                                                 \n",
      " max_pooling2d (MaxPooling2D  (None, 16, 16, 128)      0         \n",
      " )                                                               \n",
      "                                                                 \n",
      " dropout (Dropout)           (None, 16, 16, 128)       0         \n",
      "                                                                 \n",
      " conv2d_2 (Conv2D)           (None, 16, 16, 128)       147584    \n",
      "                                                                 \n",
      " batch_normalization_2 (Batc  (None, 16, 16, 128)      512       \n",
      " hNormalization)                                                 \n",
      "                                                                 \n",
      " conv2d_3 (Conv2D)           (None, 16, 16, 128)       147584    \n",
      "                                                                 \n",
      " batch_normalization_3 (Batc  (None, 16, 16, 128)      512       \n",
      " hNormalization)                                                 \n",
      "                                                                 \n",
      " max_pooling2d_1 (MaxPooling  (None, 8, 8, 128)        0         \n",
      " 2D)                                                             \n",
      "                                                                 \n",
      " dropout_1 (Dropout)         (None, 8, 8, 128)         0         \n",
      "                                                                 \n",
      " conv2d_4 (Conv2D)           (None, 8, 8, 128)         147584    \n",
      "                                                                 \n",
      " batch_normalization_4 (Batc  (None, 8, 8, 128)        512       \n",
      " hNormalization)                                                 \n",
      "                                                                 \n",
      " conv2d_5 (Conv2D)           (None, 8, 8, 128)         147584    \n",
      "                                                                 \n",
      " batch_normalization_5 (Batc  (None, 8, 8, 128)        512       \n",
      " hNormalization)                                                 \n",
      "                                                                 \n",
      " max_pooling2d_2 (MaxPooling  (None, 4, 4, 128)        0         \n",
      " 2D)                                                             \n",
      "                                                                 \n",
      " dropout_2 (Dropout)         (None, 4, 4, 128)         0         \n",
      "                                                                 \n",
      " flatten (Flatten)           (None, 2048)              0         \n",
      "                                                                 \n",
      " dense (Dense)               (None, 512)               1049088   \n",
      "                                                                 \n",
      " batch_normalization_6 (Batc  (None, 512)              2048      \n",
      " hNormalization)                                                 \n",
      "                                                                 \n",
      " dense_1 (Dense)             (None, 10)                5130      \n",
      "                                                                 \n",
      "=================================================================\n",
      "Total params: 1,800,842\n",
      "Trainable params: 1,798,282\n",
      "Non-trainable params: 2,560\n",
      "_________________________________________________________________\n",
      "None\n",
      "Saving results to: /home/ameck.dosseh/conite/MachineUnlearning/models/poisoning/clean/Cifar10_VGG16_train_results.json\n",
      "Results saved to: /home/ameck.dosseh/conite/MachineUnlearning/models/poisoning/clean/Cifar10_VGG16_train_results.json\n"
     ]
    }
   ],
   "source": [
    "from Applications.Poisoning.train import main as train\n",
    "\n",
    "# train one clean and one poisoned model\n",
    "train(model_folder=model_folder/'clean', target_args='VGG16_Cifar10_fo_clean', model_filename='Cifar10_VGG16_best_model.hdf5')"
   ]
  },
  {
   "cell_type": "markdown",
   "metadata": {},
   "source": [
    "## Train Poisoned Model\n",
    "\n",
    "- Select one of the generated configurations and train a poisoned model.\n",
    "- The poisoning uses an `injector` object which can be persisted for reproducibility. It will inject the backdoors/label noise into the same samples according to a seed. In our experiments, we worked with label noise poisoning."
   ]
  },
  {
   "cell_type": "code",
   "execution_count": 5,
   "metadata": {},
   "outputs": [
    {
     "name": "stdout",
     "output_type": "stream",
     "text": [
      "model_filename Cifar10_VGG16_poisoned_model.hdf5\n",
      "Model: \"sequential_1\"\n",
      "_________________________________________________________________\n",
      " Layer (type)                Output Shape              Param #   \n",
      "=================================================================\n",
      " conv2d_6 (Conv2D)           (None, 32, 32, 128)       3584      \n",
      "                                                                 \n",
      " batch_normalization_7 (Batc  (None, 32, 32, 128)      512       \n",
      " hNormalization)                                                 \n",
      "                                                                 \n",
      " conv2d_7 (Conv2D)           (None, 32, 32, 128)       147584    \n",
      "                                                                 \n",
      " batch_normalization_8 (Batc  (None, 32, 32, 128)      512       \n",
      " hNormalization)                                                 \n",
      "                                                                 \n",
      " max_pooling2d_3 (MaxPooling  (None, 16, 16, 128)      0         \n",
      " 2D)                                                             \n",
      "                                                                 \n",
      " dropout_3 (Dropout)         (None, 16, 16, 128)       0         \n",
      "                                                                 \n",
      " conv2d_8 (Conv2D)           (None, 16, 16, 128)       147584    \n",
      "                                                                 \n",
      " batch_normalization_9 (Batc  (None, 16, 16, 128)      512       \n",
      " hNormalization)                                                 \n",
      "                                                                 \n",
      " conv2d_9 (Conv2D)           (None, 16, 16, 128)       147584    \n",
      "                                                                 \n",
      " batch_normalization_10 (Bat  (None, 16, 16, 128)      512       \n",
      " chNormalization)                                                \n",
      "                                                                 \n",
      " max_pooling2d_4 (MaxPooling  (None, 8, 8, 128)        0         \n",
      " 2D)                                                             \n",
      "                                                                 \n",
      " dropout_4 (Dropout)         (None, 8, 8, 128)         0         \n",
      "                                                                 \n",
      " conv2d_10 (Conv2D)          (None, 8, 8, 128)         147584    \n",
      "                                                                 \n",
      " batch_normalization_11 (Bat  (None, 8, 8, 128)        512       \n",
      " chNormalization)                                                \n",
      "                                                                 \n",
      " conv2d_11 (Conv2D)          (None, 8, 8, 128)         147584    \n",
      "                                                                 \n",
      " batch_normalization_12 (Bat  (None, 8, 8, 128)        512       \n",
      " chNormalization)                                                \n",
      "                                                                 \n",
      " max_pooling2d_5 (MaxPooling  (None, 4, 4, 128)        0         \n",
      " 2D)                                                             \n",
      "                                                                 \n",
      " dropout_5 (Dropout)         (None, 4, 4, 128)         0         \n",
      "                                                                 \n",
      " flatten_1 (Flatten)         (None, 2048)              0         \n",
      "                                                                 \n",
      " dense_2 (Dense)             (None, 512)               1049088   \n",
      "                                                                 \n",
      " batch_normalization_13 (Bat  (None, 512)              2048      \n",
      " chNormalization)                                                \n",
      "                                                                 \n",
      " dense_3 (Dense)             (None, 10)                5130      \n",
      "                                                                 \n",
      "=================================================================\n",
      "Total params: 1,800,842\n",
      "Trainable params: 1,798,282\n",
      "Non-trainable params: 2,560\n",
      "_________________________________________________________________\n",
      "None\n",
      "Saving results to: /home/ameck.dosseh/conite/MachineUnlearning/models/poisoning/budget-10000/seed-42/Cifar10_VGG16_train_results.json\n",
      "Results saved to: /home/ameck.dosseh/conite/MachineUnlearning/models/poisoning/budget-10000/seed-42/Cifar10_VGG16_train_results.json\n"
     ]
    }
   ],
   "source": [
    "from Applications.Poisoning.poison.poison_models import train_poisoned\n",
    "from Applications.Poisoning.configs.demo.config import Config\n",
    "\n",
    "poisoned_folder = model_folder/'budget-10000'/'seed-42'\n",
    "poison_kwargs = Config.from_json(poisoned_folder/'poison_config.json')\n",
    "train_kwargs = Config.from_json(poisoned_folder/'train_config.json')\n",
    "train_poisoned(model_folder=poisoned_folder, target_args='VGG16_Cifar10_fo_clean', poison_kwargs=poison_kwargs, train_kwargs=train_kwargs)"
   ]
  },
  {
   "cell_type": "code",
   "execution_count": 6,
   "metadata": {},
   "outputs": [],
   "source": [
    "poisoned_weights = poisoned_folder/'best_model.hdf5'       # model that has been trained on poisoned data\n",
    "fo_repaired_weights = poisoned_folder/'fo_repaired.hdf5'   # model weights after unlearning (first-order)\n",
    "so_repaired_weights = poisoned_folder/'so_repaired.hdf5'   # model weights after unlearning (second-order)\n",
    "injector_path = poisoned_folder/'injector.pkl'             # cached injector for reproducibility\n",
    "clean_results = model_folder/'clean'/'train_results.json'  # path to reference results on clean dataset\n"
   ]
  },
  {
   "cell_type": "markdown",
   "metadata": {},
   "source": [
    "## Unlearning\n",
    "\n",
    "- Perform the first-order and second-order unlearning. The unlearning is wrapped in a function that\n",
    "    - loads the clean data, saves the original labels\n",
    "    - injects the poison (label noise)\n",
    "    - creates difference set Z using `injector.injected_idx`\n",
    "    - main unlearning happens in `Applications.Poisoning.unlearn.common.py:unlearn_update` and the thereby called `iter_approx_retraining` method\n",
    "- The variable naming follows the following ideas:\n",
    "    - `z_x`, `z_y`: features (x) and labels (y) in set `Z`\n",
    "    - `z_x_delta`, `z_y_delta`: changed features and labels (`z_x == z_x_delta` here and `z_y_delta` contains the original (fixed) labels)\n",
    "- A word about why iterative:\n",
    "    - The approximate retraining is configured to unlearn the desired changes in one step.\n",
    "    - To avoid putting a lot of redundant erroneous samples in the changing set `Z`, the iterative version\n",
    "        - takes a sub-sample (`prio_idx`) of `hvp_batch_size` in the delta set `Z`\n",
    "        - makes one unlearning step\n",
    "        - recalculates the delta set and focuses only on remaining errors\n",
    "    - The idea here is that similar to learning, it is better to work iteratively in batches since the approximation quality of the inverse hessian matrix decreases with the number of samples included (and the step size)"
   ]
  },
  {
   "cell_type": "code",
   "execution_count": 7,
   "metadata": {},
   "outputs": [],
   "source": [
    "from Applications.Poisoning.unlearn.first_order import run_experiment as fo_experiment\n",
    "from Applications.Poisoning.unlearn.second_order import run_experiment as so_experiment\n",
    "\n",
    "fo_unlearn_kwargs = Config.from_json(poisoned_folder/'first-order'/'unlearn_config.json')\n",
    "so_unlearn_kwargs = Config.from_json(poisoned_folder/'second-order'/'unlearn_config.json')\n",
    "\n",
    "\n",
    "# fo_experiment(poisoned_folder/'first-order', train_kwargs, poison_kwargs, fo_unlearn_kwargs,target_args='VGG16_Cifar10_fo_clean')\n",
    "# so_experiment(poisoned_folder/'second-order', train_kwargs, poison_kwargs, so_unlearn_kwargs)"
   ]
  },
  {
   "cell_type": "code",
   "execution_count": 8,
   "metadata": {},
   "outputs": [
    {
     "name": "stdout",
     "output_type": "stream",
     "text": [
      "Loading weights from None\n"
     ]
    }
   ],
   "source": [
    "from sklearn.metrics import accuracy_score \n",
    "from Applications.Poisoning.model import get_VGG16_CIFAR100, get_VGG16_CIFAR10, get_VGG16_SVHN, get_RESNET50_CIFAR10,get_RESNET50_CIFAR100, get_RESNET50_SVHN\n",
    "from Applications.Poisoning.dataset import Cifar10, SVHN, FashionMnist, Cifar100\n",
    "import numpy as np\n",
    "\n",
    "def evaluate(model, data, weights_path):\n",
    "    (x_train, y_train), (x_test, y_test), (x_val, y_val) = data\n",
    "    model.load_weights(weights_path)\n",
    "    y_pred = model.predict(x=x_test)\n",
    "    y_pred = np.argmax(y_pred, axis=1)\n",
    "    y_true = np.argmax(y_test, axis=1)\n",
    "    acc = accuracy_score(y_true, y_pred)\n",
    "    return acc\n",
    "\n",
    "model = get_RESNET50_CIFAR10()\n",
    "# evaluate(model,data=Cifar10.load(), weights_path=model_folder/'clean'/'Cifar10_RESNET50_best_model.hdf5')"
   ]
  },
  {
   "cell_type": "code",
   "execution_count": 9,
   "metadata": {},
   "outputs": [
    {
     "name": "stdout",
     "output_type": "stream",
     "text": [
      "**** clean_fo_so_clean ****\n",
      "Loading weights from None\n",
      "Accuracy init model :  0.7384\n",
      "Unlearning results already exist for RESNET50 Cifar10\n",
      "**** clean_fo_clean_so ****\n",
      "Loading weights from None\n",
      "Accuracy init model :  0.7384\n",
      "Unlearning results already exist for RESNET50 Cifar10\n",
      "**** clean_fo_fo_clean ****\n",
      "Loading weights from None\n",
      "Accuracy init model :  0.7384\n",
      " target : feature_extraction\n",
      "prefix ==: clean_fo_fo_clean\n",
      "Loading weights from None\n",
      "From core : target feature_extraction, num_layers 10\n",
      "From core : num_layers 10 \n",
      "From core : target feature_extraction, num_layers 10\n",
      "From core : num_layers 10 \n",
      "From core : target feature_extraction, num_layers 10\n",
      "From core : num_layers 10 \n",
      "From core : target feature_extraction, num_layers 10\n",
      "From core : num_layers 10 \n",
      "From core : target feature_extraction, num_layers 10\n",
      "From core : num_layers 10 \n",
      "From core : target feature_extraction, num_layers 10\n",
      "From core : num_layers 10 \n",
      "From core : target feature_extraction, num_layers 10\n",
      "From core : num_layers 10 \n",
      "From core : target feature_extraction, num_layers 10\n",
      "From core : num_layers 10 \n",
      "From core : target feature_extraction, num_layers 10\n",
      "From core : num_layers 10 \n",
      "From core : target feature_extraction, num_layers 10\n",
      "From core : num_layers 10 \n",
      "Loading weights from None\n",
      "Saving results to: /home/ameck.dosseh/conite/MachineUnlearning/models/poisoning/budget-10000/seed-42/first-order/Cifar10_Cifar10_RESNET50_feature_extraction_clean_fo_fo_clean_unlearning_results.json\n",
      "Results saved to: /home/ameck.dosseh/conite/MachineUnlearning/models/poisoning/budget-10000/seed-42/first-order/Cifar10_Cifar10_RESNET50_feature_extraction_clean_fo_fo_clean_unlearning_results.json\n",
      "**** clean_fo_clean_fo ****\n",
      "Loading weights from None\n",
      "Accuracy init model :  0.7384\n",
      " target : classifier\n",
      "prefix ==: clean_fo_clean_fo\n",
      "Loading weights from None\n",
      "From core : target classifier, num_layers 6\n",
      "From core : num_layers 6 \n",
      "From core : target classifier, num_layers 6\n",
      "From core : num_layers 6 \n",
      "From core : target classifier, num_layers 6\n",
      "From core : num_layers 6 \n",
      "From core : target classifier, num_layers 6\n",
      "From core : num_layers 6 \n",
      "From core : target classifier, num_layers 6\n",
      "From core : num_layers 6 \n",
      "From core : target classifier, num_layers 6\n",
      "From core : num_layers 6 \n",
      "From core : target classifier, num_layers 6\n",
      "From core : num_layers 6 \n",
      "From core : target classifier, num_layers 6\n",
      "From core : num_layers 6 \n"
     ]
    },
    {
     "name": "stderr",
     "output_type": "stream",
     "text": [
      "../Applications/Poisoning/unlearn/common.py:217: RuntimeWarning: More than 20 figures have been opened. Figures created through the pyplot interface (`matplotlib.pyplot.figure`) are retained until explicitly closed and may consume too much memory. (To control this warning, see the rcParam `figure.max_open_warning`).\n",
      "  fig, ax = plt.subplots(figsize=(10, 10))\n"
     ]
    },
    {
     "name": "stdout",
     "output_type": "stream",
     "text": [
      "From core : target classifier, num_layers 6\n",
      "From core : num_layers 6 \n",
      "From core : target classifier, num_layers 6\n",
      "From core : num_layers 6 \n",
      "Loading weights from None\n",
      "Saving results to: /home/ameck.dosseh/conite/MachineUnlearning/models/poisoning/budget-10000/seed-42/first-order/Cifar10_Cifar10_RESNET50_classifier_clean_fo_clean_fo_unlearning_results.json\n",
      "Results saved to: /home/ameck.dosseh/conite/MachineUnlearning/models/poisoning/budget-10000/seed-42/first-order/Cifar10_Cifar10_RESNET50_classifier_clean_fo_clean_fo_unlearning_results.json\n",
      "**** clean_fo_fo_fo ****\n",
      "Loading weights from None\n",
      "Accuracy init model :  0.7384\n",
      " target : both\n",
      "prefix ==: clean_fo_fo_fo\n",
      "Loading weights from None\n",
      "From core : target both, num_layers 16\n",
      "From core : num_layers 16 \n",
      "From core : target both, num_layers 16\n",
      "From core : num_layers 16 \n",
      "From core : target both, num_layers 16\n",
      "From core : num_layers 16 \n",
      "From core : target both, num_layers 16\n",
      "From core : num_layers 16 \n",
      "From core : target both, num_layers 16\n",
      "From core : num_layers 16 \n",
      "From core : target both, num_layers 16\n",
      "From core : num_layers 16 \n",
      "From core : target both, num_layers 16\n",
      "From core : num_layers 16 \n",
      "From core : target both, num_layers 16\n",
      "From core : num_layers 16 \n",
      "From core : target both, num_layers 16\n",
      "From core : num_layers 16 \n",
      "From core : target both, num_layers 16\n",
      "From core : num_layers 16 \n",
      "Loading weights from None\n",
      "Saving results to: /home/ameck.dosseh/conite/MachineUnlearning/models/poisoning/budget-10000/seed-42/first-order/Cifar10_Cifar10_RESNET50_both_clean_fo_fo_fo_unlearning_results.json\n",
      "Results saved to: /home/ameck.dosseh/conite/MachineUnlearning/models/poisoning/budget-10000/seed-42/first-order/Cifar10_Cifar10_RESNET50_both_clean_fo_fo_fo_unlearning_results.json\n",
      "**** clean_fo_so_so ****\n",
      "Loading weights from None\n",
      "Accuracy init model :  0.7384\n",
      "Loading weights from None\n",
      "From core : target both, num_layers 16\n",
      "From core : num_layers 16 \n",
      "Early stopping at iteration 77. Update norm 1471584.8316704035 > [1163982.1396853924, 20]\n",
      "Convergence after 4901.0 iterations. Update norm 1163982.1396853924.\n",
      "From core : target both, num_layers 16\n",
      "From core : num_layers 16 \n",
      "Early stopping at iteration 24. Update norm 1666807.1670992374 > [1354550.0390675068, 20]\n",
      "Convergence after 4901.0 iterations. Update norm 1354550.0390675068.\n",
      "From core : target both, num_layers 16\n",
      "From core : num_layers 16 \n",
      "Early stopping at iteration 27. Update norm 1457186.113399744 > [1309021.8663482666, 20]\n",
      "Convergence after 4901.0 iterations. Update norm 1309021.8663482666.\n",
      "From core : target both, num_layers 16\n",
      "From core : num_layers 16 \n",
      "Early stopping at iteration 43. Update norm 1534274.6769502163 > [1189197.9217078686, 20]\n",
      "Convergence after 4901.0 iterations. Update norm 1189197.9217078686.\n",
      "From core : target both, num_layers 16\n",
      "From core : num_layers 16 \n",
      "Early stopping at iteration 33. Update norm 1626661.5653079748 > [1202122.4717757702, 20]\n",
      "Convergence after 4901.0 iterations. Update norm 1202122.4717757702.\n",
      "From core : target both, num_layers 16\n",
      "From core : num_layers 16 \n",
      "Early stopping at iteration 42. Update norm 1343806.5423471928 > [1199398.4206914902, 20]\n",
      "Convergence after 4901.0 iterations. Update norm 1199398.4206914902.\n",
      "From core : target both, num_layers 16\n",
      "From core : num_layers 16 \n",
      "Early stopping at iteration 38. Update norm 1566593.3667680025 > [1163948.7174447775, 20]\n",
      "Convergence after 4901.0 iterations. Update norm 1163948.7174447775.\n",
      "From core : target both, num_layers 16\n",
      "From core : num_layers 16 \n",
      "Early stopping at iteration 44. Update norm 1573493.9092601538 > [1233915.729998827, 20]\n",
      "Convergence after 4901.0 iterations. Update norm 1233915.729998827.\n",
      "From core : target both, num_layers 16\n",
      "From core : num_layers 16 \n",
      "Early stopping at iteration 45. Update norm 1849422.614068985 > [1199200.416980505, 20]\n",
      "Convergence after 4901.0 iterations. Update norm 1199200.416980505.\n",
      "From core : target both, num_layers 16\n",
      "From core : num_layers 16 \n",
      "Early stopping at iteration 25. Update norm 1471731.998609066 > [1258526.8283480406, 20]\n",
      "Convergence after 4901.0 iterations. Update norm 1258526.8283480406.\n",
      "Loading weights from None\n",
      "Saving results to: /home/ameck.dosseh/conite/MachineUnlearning/models/poisoning/budget-10000/seed-42/second-order/Cifar10_Cifar10_RESNET50_both_clean_fo_so_so_unlearning_results.json\n",
      "Results saved to: /home/ameck.dosseh/conite/MachineUnlearning/models/poisoning/budget-10000/seed-42/second-order/Cifar10_Cifar10_RESNET50_both_clean_fo_so_so_unlearning_results.json\n",
      "**** clean_fo_so_fo ****\n",
      "Loading weights from None\n",
      "Accuracy init model :  0.5384\n",
      " target : classifier\n",
      "prefix ==: clean_fo_so_fo\n",
      "Loading weights from None\n",
      "From core : target classifier, num_layers 6\n",
      "From core : num_layers 6 \n",
      "From core : target classifier, num_layers 6\n",
      "From core : num_layers 6 \n",
      "From core : target classifier, num_layers 6\n",
      "From core : num_layers 6 \n",
      "From core : target classifier, num_layers 6\n",
      "From core : num_layers 6 \n",
      "From core : target classifier, num_layers 6\n",
      "From core : num_layers 6 \n",
      "From core : target classifier, num_layers 6\n",
      "From core : num_layers 6 \n",
      "From core : target classifier, num_layers 6\n",
      "From core : num_layers 6 \n",
      "From core : target classifier, num_layers 6\n",
      "From core : num_layers 6 \n",
      "From core : target classifier, num_layers 6\n",
      "From core : num_layers 6 \n",
      "From core : target classifier, num_layers 6\n",
      "From core : num_layers 6 \n",
      "Loading weights from None\n",
      "Saving results to: /home/ameck.dosseh/conite/MachineUnlearning/models/poisoning/budget-10000/seed-42/first-order/Cifar10_Cifar10_RESNET50_classifier_clean_fo_so_fo_unlearning_results.json\n",
      "Results saved to: /home/ameck.dosseh/conite/MachineUnlearning/models/poisoning/budget-10000/seed-42/first-order/Cifar10_Cifar10_RESNET50_classifier_clean_fo_so_fo_unlearning_results.json\n"
     ]
    },
    {
     "ename": "FileNotFoundError",
     "evalue": "[Errno 2] Unable to open file (unable to open file: name = '/home/ameck.dosseh/conite/MachineUnlearning/models/poisoning/budget-10000/seed-42/first-order/RESNET50_Cifar10_classifier-clean_fo_so_fo_repaired_model.hdf5', errno = 2, error message = 'No such file or directory', flags = 0, o_flags = 0)",
     "output_type": "error",
     "traceback": [
      "\u001b[0;31m---------------------------------------------------------------------------\u001b[0m",
      "\u001b[0;31mFileNotFoundError\u001b[0m                         Traceback (most recent call last)",
      "\u001b[0;32m/tmp/ipykernel_6010/2466348093.py\u001b[0m in \u001b[0;36m<module>\u001b[0;34m\u001b[0m\n\u001b[1;32m     39\u001b[0m \u001b[0mpath_clean_fo_so_clean\u001b[0m \u001b[0;34m=\u001b[0m \u001b[0mpoisoned_folder\u001b[0m\u001b[0;34m/\u001b[0m\u001b[0;34m'second-order'\u001b[0m \u001b[0;34m/\u001b[0m\u001b[0;34m'RESNET50_Cifar10_feature_extraction_clean_fo_so_clean_repaired_model.hdf5'\u001b[0m\u001b[0;34m\u001b[0m\u001b[0;34m\u001b[0m\u001b[0m\n\u001b[1;32m     40\u001b[0m \u001b[0mfo_experiment\u001b[0m\u001b[0;34m(\u001b[0m\u001b[0mpoisoned_folder\u001b[0m\u001b[0;34m/\u001b[0m\u001b[0;34m'first-order'\u001b[0m\u001b[0;34m,\u001b[0m \u001b[0mtrain_kwargs\u001b[0m\u001b[0;34m,\u001b[0m \u001b[0mpoison_kwargs\u001b[0m\u001b[0;34m,\u001b[0m \u001b[0mfo_unlearn_kwargs\u001b[0m\u001b[0;34m,\u001b[0m\u001b[0mtarget_args\u001b[0m\u001b[0;34m=\u001b[0m\u001b[0;34m'RESNET50_Cifar10_classifier-clean_fo_so_fo-6'\u001b[0m\u001b[0;34m,\u001b[0m \u001b[0mmodelweights\u001b[0m\u001b[0;34m=\u001b[0m\u001b[0mpath_clean_fo_so_clean\u001b[0m\u001b[0;34m,\u001b[0m \u001b[0mtrain_results\u001b[0m\u001b[0;34m=\u001b[0m\u001b[0mtrain_results\u001b[0m\u001b[0;34m)\u001b[0m\u001b[0;34m\u001b[0m\u001b[0;34m\u001b[0m\u001b[0m\n\u001b[0;32m---> 41\u001b[0;31m \u001b[0mevaluate\u001b[0m\u001b[0;34m(\u001b[0m\u001b[0mmodel\u001b[0m\u001b[0;34m,\u001b[0m\u001b[0mdata\u001b[0m\u001b[0;34m=\u001b[0m\u001b[0mCifar10\u001b[0m\u001b[0;34m.\u001b[0m\u001b[0mload\u001b[0m\u001b[0;34m(\u001b[0m\u001b[0;34m)\u001b[0m\u001b[0;34m,\u001b[0m \u001b[0mweights_path\u001b[0m\u001b[0;34m=\u001b[0m\u001b[0mpoisoned_folder\u001b[0m\u001b[0;34m/\u001b[0m\u001b[0;34m'first-order'\u001b[0m\u001b[0;34m/\u001b[0m\u001b[0;34m'RESNET50_Cifar10_classifier-clean_fo_so_fo_repaired_model.hdf5'\u001b[0m\u001b[0;34m)\u001b[0m\u001b[0;34m\u001b[0m\u001b[0;34m\u001b[0m\u001b[0m\n\u001b[0m\u001b[1;32m     42\u001b[0m \u001b[0;34m\u001b[0m\u001b[0m\n\u001b[1;32m     43\u001b[0m \u001b[0;31m# clean_fo_fo_so\u001b[0m\u001b[0;34m\u001b[0m\u001b[0;34m\u001b[0m\u001b[0;34m\u001b[0m\u001b[0m\n",
      "\u001b[0;32m/tmp/ipykernel_6010/2501554553.py\u001b[0m in \u001b[0;36mevaluate\u001b[0;34m(model, data, weights_path)\u001b[0m\n\u001b[1;32m      6\u001b[0m \u001b[0;32mdef\u001b[0m \u001b[0mevaluate\u001b[0m\u001b[0;34m(\u001b[0m\u001b[0mmodel\u001b[0m\u001b[0;34m,\u001b[0m \u001b[0mdata\u001b[0m\u001b[0;34m,\u001b[0m \u001b[0mweights_path\u001b[0m\u001b[0;34m)\u001b[0m\u001b[0;34m:\u001b[0m\u001b[0;34m\u001b[0m\u001b[0;34m\u001b[0m\u001b[0m\n\u001b[1;32m      7\u001b[0m     \u001b[0;34m(\u001b[0m\u001b[0mx_train\u001b[0m\u001b[0;34m,\u001b[0m \u001b[0my_train\u001b[0m\u001b[0;34m)\u001b[0m\u001b[0;34m,\u001b[0m \u001b[0;34m(\u001b[0m\u001b[0mx_test\u001b[0m\u001b[0;34m,\u001b[0m \u001b[0my_test\u001b[0m\u001b[0;34m)\u001b[0m\u001b[0;34m,\u001b[0m \u001b[0;34m(\u001b[0m\u001b[0mx_val\u001b[0m\u001b[0;34m,\u001b[0m \u001b[0my_val\u001b[0m\u001b[0;34m)\u001b[0m \u001b[0;34m=\u001b[0m \u001b[0mdata\u001b[0m\u001b[0;34m\u001b[0m\u001b[0;34m\u001b[0m\u001b[0m\n\u001b[0;32m----> 8\u001b[0;31m     \u001b[0mmodel\u001b[0m\u001b[0;34m.\u001b[0m\u001b[0mload_weights\u001b[0m\u001b[0;34m(\u001b[0m\u001b[0mweights_path\u001b[0m\u001b[0;34m)\u001b[0m\u001b[0;34m\u001b[0m\u001b[0;34m\u001b[0m\u001b[0m\n\u001b[0m\u001b[1;32m      9\u001b[0m     \u001b[0my_pred\u001b[0m \u001b[0;34m=\u001b[0m \u001b[0mmodel\u001b[0m\u001b[0;34m.\u001b[0m\u001b[0mpredict\u001b[0m\u001b[0;34m(\u001b[0m\u001b[0mx\u001b[0m\u001b[0;34m=\u001b[0m\u001b[0mx_test\u001b[0m\u001b[0;34m)\u001b[0m\u001b[0;34m\u001b[0m\u001b[0;34m\u001b[0m\u001b[0m\n\u001b[1;32m     10\u001b[0m     \u001b[0my_pred\u001b[0m \u001b[0;34m=\u001b[0m \u001b[0mnp\u001b[0m\u001b[0;34m.\u001b[0m\u001b[0margmax\u001b[0m\u001b[0;34m(\u001b[0m\u001b[0my_pred\u001b[0m\u001b[0;34m,\u001b[0m \u001b[0maxis\u001b[0m\u001b[0;34m=\u001b[0m\u001b[0;36m1\u001b[0m\u001b[0;34m)\u001b[0m\u001b[0;34m\u001b[0m\u001b[0;34m\u001b[0m\u001b[0m\n",
      "\u001b[0;32m~/conite/MU_ENV/lib/python3.7/site-packages/keras/utils/traceback_utils.py\u001b[0m in \u001b[0;36merror_handler\u001b[0;34m(*args, **kwargs)\u001b[0m\n\u001b[1;32m     65\u001b[0m     \u001b[0;32mexcept\u001b[0m \u001b[0mException\u001b[0m \u001b[0;32mas\u001b[0m \u001b[0me\u001b[0m\u001b[0;34m:\u001b[0m  \u001b[0;31m# pylint: disable=broad-except\u001b[0m\u001b[0;34m\u001b[0m\u001b[0;34m\u001b[0m\u001b[0m\n\u001b[1;32m     66\u001b[0m       \u001b[0mfiltered_tb\u001b[0m \u001b[0;34m=\u001b[0m \u001b[0m_process_traceback_frames\u001b[0m\u001b[0;34m(\u001b[0m\u001b[0me\u001b[0m\u001b[0;34m.\u001b[0m\u001b[0m__traceback__\u001b[0m\u001b[0;34m)\u001b[0m\u001b[0;34m\u001b[0m\u001b[0;34m\u001b[0m\u001b[0m\n\u001b[0;32m---> 67\u001b[0;31m       \u001b[0;32mraise\u001b[0m \u001b[0me\u001b[0m\u001b[0;34m.\u001b[0m\u001b[0mwith_traceback\u001b[0m\u001b[0;34m(\u001b[0m\u001b[0mfiltered_tb\u001b[0m\u001b[0;34m)\u001b[0m \u001b[0;32mfrom\u001b[0m \u001b[0;32mNone\u001b[0m\u001b[0;34m\u001b[0m\u001b[0;34m\u001b[0m\u001b[0m\n\u001b[0m\u001b[1;32m     68\u001b[0m     \u001b[0;32mfinally\u001b[0m\u001b[0;34m:\u001b[0m\u001b[0;34m\u001b[0m\u001b[0;34m\u001b[0m\u001b[0m\n\u001b[1;32m     69\u001b[0m       \u001b[0;32mdel\u001b[0m \u001b[0mfiltered_tb\u001b[0m\u001b[0;34m\u001b[0m\u001b[0;34m\u001b[0m\u001b[0m\n",
      "\u001b[0;32m~/conite/MU_ENV/lib/python3.7/site-packages/h5py/_hl/files.py\u001b[0m in \u001b[0;36m__init__\u001b[0;34m(self, name, mode, driver, libver, userblock_size, swmr, rdcc_nslots, rdcc_nbytes, rdcc_w0, track_order, fs_strategy, fs_persist, fs_threshold, fs_page_size, page_buf_size, min_meta_keep, min_raw_keep, locking, alignment_threshold, alignment_interval, meta_block_size, **kwds)\u001b[0m\n\u001b[1;32m    565\u001b[0m                                  \u001b[0mfs_persist\u001b[0m\u001b[0;34m=\u001b[0m\u001b[0mfs_persist\u001b[0m\u001b[0;34m,\u001b[0m \u001b[0mfs_threshold\u001b[0m\u001b[0;34m=\u001b[0m\u001b[0mfs_threshold\u001b[0m\u001b[0;34m,\u001b[0m\u001b[0;34m\u001b[0m\u001b[0;34m\u001b[0m\u001b[0m\n\u001b[1;32m    566\u001b[0m                                  fs_page_size=fs_page_size)\n\u001b[0;32m--> 567\u001b[0;31m                 \u001b[0mfid\u001b[0m \u001b[0;34m=\u001b[0m \u001b[0mmake_fid\u001b[0m\u001b[0;34m(\u001b[0m\u001b[0mname\u001b[0m\u001b[0;34m,\u001b[0m \u001b[0mmode\u001b[0m\u001b[0;34m,\u001b[0m \u001b[0muserblock_size\u001b[0m\u001b[0;34m,\u001b[0m \u001b[0mfapl\u001b[0m\u001b[0;34m,\u001b[0m \u001b[0mfcpl\u001b[0m\u001b[0;34m,\u001b[0m \u001b[0mswmr\u001b[0m\u001b[0;34m=\u001b[0m\u001b[0mswmr\u001b[0m\u001b[0;34m)\u001b[0m\u001b[0;34m\u001b[0m\u001b[0;34m\u001b[0m\u001b[0m\n\u001b[0m\u001b[1;32m    568\u001b[0m \u001b[0;34m\u001b[0m\u001b[0m\n\u001b[1;32m    569\u001b[0m             \u001b[0;32mif\u001b[0m \u001b[0misinstance\u001b[0m\u001b[0;34m(\u001b[0m\u001b[0mlibver\u001b[0m\u001b[0;34m,\u001b[0m \u001b[0mtuple\u001b[0m\u001b[0;34m)\u001b[0m\u001b[0;34m:\u001b[0m\u001b[0;34m\u001b[0m\u001b[0;34m\u001b[0m\u001b[0m\n",
      "\u001b[0;32m~/conite/MU_ENV/lib/python3.7/site-packages/h5py/_hl/files.py\u001b[0m in \u001b[0;36mmake_fid\u001b[0;34m(name, mode, userblock_size, fapl, fcpl, swmr)\u001b[0m\n\u001b[1;32m    229\u001b[0m         \u001b[0;32mif\u001b[0m \u001b[0mswmr\u001b[0m \u001b[0;32mand\u001b[0m \u001b[0mswmr_support\u001b[0m\u001b[0;34m:\u001b[0m\u001b[0;34m\u001b[0m\u001b[0;34m\u001b[0m\u001b[0m\n\u001b[1;32m    230\u001b[0m             \u001b[0mflags\u001b[0m \u001b[0;34m|=\u001b[0m \u001b[0mh5f\u001b[0m\u001b[0;34m.\u001b[0m\u001b[0mACC_SWMR_READ\u001b[0m\u001b[0;34m\u001b[0m\u001b[0;34m\u001b[0m\u001b[0m\n\u001b[0;32m--> 231\u001b[0;31m         \u001b[0mfid\u001b[0m \u001b[0;34m=\u001b[0m \u001b[0mh5f\u001b[0m\u001b[0;34m.\u001b[0m\u001b[0mopen\u001b[0m\u001b[0;34m(\u001b[0m\u001b[0mname\u001b[0m\u001b[0;34m,\u001b[0m \u001b[0mflags\u001b[0m\u001b[0;34m,\u001b[0m \u001b[0mfapl\u001b[0m\u001b[0;34m=\u001b[0m\u001b[0mfapl\u001b[0m\u001b[0;34m)\u001b[0m\u001b[0;34m\u001b[0m\u001b[0;34m\u001b[0m\u001b[0m\n\u001b[0m\u001b[1;32m    232\u001b[0m     \u001b[0;32melif\u001b[0m \u001b[0mmode\u001b[0m \u001b[0;34m==\u001b[0m \u001b[0;34m'r+'\u001b[0m\u001b[0;34m:\u001b[0m\u001b[0;34m\u001b[0m\u001b[0;34m\u001b[0m\u001b[0m\n\u001b[1;32m    233\u001b[0m         \u001b[0mfid\u001b[0m \u001b[0;34m=\u001b[0m \u001b[0mh5f\u001b[0m\u001b[0;34m.\u001b[0m\u001b[0mopen\u001b[0m\u001b[0;34m(\u001b[0m\u001b[0mname\u001b[0m\u001b[0;34m,\u001b[0m \u001b[0mh5f\u001b[0m\u001b[0;34m.\u001b[0m\u001b[0mACC_RDWR\u001b[0m\u001b[0;34m,\u001b[0m \u001b[0mfapl\u001b[0m\u001b[0;34m=\u001b[0m\u001b[0mfapl\u001b[0m\u001b[0;34m)\u001b[0m\u001b[0;34m\u001b[0m\u001b[0;34m\u001b[0m\u001b[0m\n",
      "\u001b[0;32mh5py/_objects.pyx\u001b[0m in \u001b[0;36mh5py._objects.with_phil.wrapper\u001b[0;34m()\u001b[0m\n",
      "\u001b[0;32mh5py/_objects.pyx\u001b[0m in \u001b[0;36mh5py._objects.with_phil.wrapper\u001b[0;34m()\u001b[0m\n",
      "\u001b[0;32mh5py/h5f.pyx\u001b[0m in \u001b[0;36mh5py.h5f.open\u001b[0;34m()\u001b[0m\n",
      "\u001b[0;31mFileNotFoundError\u001b[0m: [Errno 2] Unable to open file (unable to open file: name = '/home/ameck.dosseh/conite/MachineUnlearning/models/poisoning/budget-10000/seed-42/first-order/RESNET50_Cifar10_classifier-clean_fo_so_fo_repaired_model.hdf5', errno = 2, error message = 'No such file or directory', flags = 0, o_flags = 0)"
     ]
    },
    {
     "data": {
      "text/plain": [
       "<Figure size 640x480 with 0 Axes>"
      ]
     },
     "metadata": {},
     "output_type": "display_data"
    },
    {
     "data": {
      "text/plain": [
       "<Figure size 1000x1000 with 0 Axes>"
      ]
     },
     "metadata": {},
     "output_type": "display_data"
    },
    {
     "data": {
      "text/plain": [
       "<Figure size 1000x1000 with 0 Axes>"
      ]
     },
     "metadata": {},
     "output_type": "display_data"
    },
    {
     "data": {
      "text/plain": [
       "<Figure size 1000x1000 with 0 Axes>"
      ]
     },
     "metadata": {},
     "output_type": "display_data"
    },
    {
     "data": {
      "text/plain": [
       "<Figure size 1000x1000 with 0 Axes>"
      ]
     },
     "metadata": {},
     "output_type": "display_data"
    },
    {
     "data": {
      "text/plain": [
       "<Figure size 1000x1000 with 0 Axes>"
      ]
     },
     "metadata": {},
     "output_type": "display_data"
    },
    {
     "data": {
      "text/plain": [
       "<Figure size 1000x1000 with 0 Axes>"
      ]
     },
     "metadata": {},
     "output_type": "display_data"
    },
    {
     "data": {
      "text/plain": [
       "<Figure size 1000x1000 with 0 Axes>"
      ]
     },
     "metadata": {},
     "output_type": "display_data"
    },
    {
     "data": {
      "text/plain": [
       "<Figure size 1000x1000 with 0 Axes>"
      ]
     },
     "metadata": {},
     "output_type": "display_data"
    },
    {
     "data": {
      "text/plain": [
       "<Figure size 1000x1000 with 0 Axes>"
      ]
     },
     "metadata": {},
     "output_type": "display_data"
    },
    {
     "data": {
      "text/plain": [
       "<Figure size 1000x1000 with 0 Axes>"
      ]
     },
     "metadata": {},
     "output_type": "display_data"
    },
    {
     "data": {
      "text/plain": [
       "<Figure size 1000x1000 with 0 Axes>"
      ]
     },
     "metadata": {},
     "output_type": "display_data"
    },
    {
     "data": {
      "text/plain": [
       "<Figure size 1000x1000 with 0 Axes>"
      ]
     },
     "metadata": {},
     "output_type": "display_data"
    },
    {
     "data": {
      "text/plain": [
       "<Figure size 1000x1000 with 0 Axes>"
      ]
     },
     "metadata": {},
     "output_type": "display_data"
    },
    {
     "data": {
      "text/plain": [
       "<Figure size 1000x1000 with 0 Axes>"
      ]
     },
     "metadata": {},
     "output_type": "display_data"
    },
    {
     "data": {
      "text/plain": [
       "<Figure size 1000x1000 with 0 Axes>"
      ]
     },
     "metadata": {},
     "output_type": "display_data"
    },
    {
     "data": {
      "text/plain": [
       "<Figure size 1000x1000 with 0 Axes>"
      ]
     },
     "metadata": {},
     "output_type": "display_data"
    },
    {
     "data": {
      "text/plain": [
       "<Figure size 1000x1000 with 0 Axes>"
      ]
     },
     "metadata": {},
     "output_type": "display_data"
    },
    {
     "data": {
      "text/plain": [
       "<Figure size 1000x1000 with 0 Axes>"
      ]
     },
     "metadata": {},
     "output_type": "display_data"
    },
    {
     "data": {
      "text/plain": [
       "<Figure size 1000x1000 with 0 Axes>"
      ]
     },
     "metadata": {},
     "output_type": "display_data"
    },
    {
     "data": {
      "text/plain": [
       "<Figure size 1000x1000 with 0 Axes>"
      ]
     },
     "metadata": {},
     "output_type": "display_data"
    },
    {
     "data": {
      "text/plain": [
       "<Figure size 1000x1000 with 0 Axes>"
      ]
     },
     "metadata": {},
     "output_type": "display_data"
    },
    {
     "data": {
      "text/plain": [
       "<Figure size 1000x1000 with 0 Axes>"
      ]
     },
     "metadata": {},
     "output_type": "display_data"
    },
    {
     "data": {
      "text/plain": [
       "<Figure size 1000x1000 with 0 Axes>"
      ]
     },
     "metadata": {},
     "output_type": "display_data"
    },
    {
     "data": {
      "text/plain": [
       "<Figure size 1000x1000 with 0 Axes>"
      ]
     },
     "metadata": {},
     "output_type": "display_data"
    },
    {
     "data": {
      "text/plain": [
       "<Figure size 1000x1000 with 0 Axes>"
      ]
     },
     "metadata": {},
     "output_type": "display_data"
    },
    {
     "data": {
      "text/plain": [
       "<Figure size 1000x1000 with 0 Axes>"
      ]
     },
     "metadata": {},
     "output_type": "display_data"
    },
    {
     "data": {
      "text/plain": [
       "<Figure size 1000x1000 with 0 Axes>"
      ]
     },
     "metadata": {},
     "output_type": "display_data"
    },
    {
     "data": {
      "text/plain": [
       "<Figure size 1000x1000 with 0 Axes>"
      ]
     },
     "metadata": {},
     "output_type": "display_data"
    },
    {
     "data": {
      "text/plain": [
       "<Figure size 1000x1000 with 0 Axes>"
      ]
     },
     "metadata": {},
     "output_type": "display_data"
    },
    {
     "data": {
      "text/plain": [
       "<Figure size 1000x1000 with 0 Axes>"
      ]
     },
     "metadata": {},
     "output_type": "display_data"
    },
    {
     "data": {
      "text/plain": [
       "<Figure size 1000x1000 with 0 Axes>"
      ]
     },
     "metadata": {},
     "output_type": "display_data"
    },
    {
     "data": {
      "text/plain": [
       "<Figure size 1000x1000 with 0 Axes>"
      ]
     },
     "metadata": {},
     "output_type": "display_data"
    },
    {
     "data": {
      "text/plain": [
       "<Figure size 1000x1000 with 0 Axes>"
      ]
     },
     "metadata": {},
     "output_type": "display_data"
    },
    {
     "data": {
      "text/plain": [
       "<Figure size 1000x1000 with 0 Axes>"
      ]
     },
     "metadata": {},
     "output_type": "display_data"
    },
    {
     "data": {
      "text/plain": [
       "<Figure size 1000x1000 with 0 Axes>"
      ]
     },
     "metadata": {},
     "output_type": "display_data"
    },
    {
     "data": {
      "text/plain": [
       "<Figure size 1000x1000 with 0 Axes>"
      ]
     },
     "metadata": {},
     "output_type": "display_data"
    },
    {
     "data": {
      "text/plain": [
       "<Figure size 1000x1000 with 0 Axes>"
      ]
     },
     "metadata": {},
     "output_type": "display_data"
    },
    {
     "data": {
      "text/plain": [
       "<Figure size 1000x1000 with 0 Axes>"
      ]
     },
     "metadata": {},
     "output_type": "display_data"
    },
    {
     "data": {
      "text/plain": [
       "<Figure size 1000x1000 with 0 Axes>"
      ]
     },
     "metadata": {},
     "output_type": "display_data"
    },
    {
     "data": {
      "text/plain": [
       "<Figure size 1000x1000 with 0 Axes>"
      ]
     },
     "metadata": {},
     "output_type": "display_data"
    },
    {
     "data": {
      "text/plain": [
       "<Figure size 1000x1000 with 0 Axes>"
      ]
     },
     "metadata": {},
     "output_type": "display_data"
    },
    {
     "data": {
      "text/plain": [
       "<Figure size 1000x1000 with 0 Axes>"
      ]
     },
     "metadata": {},
     "output_type": "display_data"
    },
    {
     "data": {
      "text/plain": [
       "<Figure size 1000x1000 with 0 Axes>"
      ]
     },
     "metadata": {},
     "output_type": "display_data"
    },
    {
     "data": {
      "text/plain": [
       "<Figure size 1000x1000 with 0 Axes>"
      ]
     },
     "metadata": {},
     "output_type": "display_data"
    },
    {
     "data": {
      "text/plain": [
       "<Figure size 1000x1000 with 0 Axes>"
      ]
     },
     "metadata": {},
     "output_type": "display_data"
    },
    {
     "data": {
      "text/plain": [
       "<Figure size 1000x1000 with 0 Axes>"
      ]
     },
     "metadata": {},
     "output_type": "display_data"
    },
    {
     "data": {
      "text/plain": [
       "<Figure size 1000x1000 with 0 Axes>"
      ]
     },
     "metadata": {},
     "output_type": "display_data"
    },
    {
     "data": {
      "text/plain": [
       "<Figure size 1000x1000 with 0 Axes>"
      ]
     },
     "metadata": {},
     "output_type": "display_data"
    },
    {
     "data": {
      "text/plain": [
       "<Figure size 1000x1000 with 0 Axes>"
      ]
     },
     "metadata": {},
     "output_type": "display_data"
    },
    {
     "data": {
      "text/plain": [
       "<Figure size 1000x1000 with 0 Axes>"
      ]
     },
     "metadata": {},
     "output_type": "display_data"
    },
    {
     "data": {
      "text/plain": [
       "<Figure size 1000x1000 with 0 Axes>"
      ]
     },
     "metadata": {},
     "output_type": "display_data"
    },
    {
     "data": {
      "text/plain": [
       "<Figure size 1000x1000 with 0 Axes>"
      ]
     },
     "metadata": {},
     "output_type": "display_data"
    },
    {
     "data": {
      "text/plain": [
       "<Figure size 1000x1000 with 0 Axes>"
      ]
     },
     "metadata": {},
     "output_type": "display_data"
    },
    {
     "data": {
      "text/plain": [
       "<Figure size 1000x1000 with 0 Axes>"
      ]
     },
     "metadata": {},
     "output_type": "display_data"
    },
    {
     "data": {
      "image/png": "[encoded data removed]",
      "text/plain": [
       "<Figure size 1000x1000 with 1 Axes>"
      ]
     },
     "metadata": {},
     "output_type": "display_data"
    }
   ],
   "source": [
    "# clean_fo\n",
    "# target prefix num_layers\n",
    "\n",
    "path_clean_fo = poisoned_folder/'first-order' /'RESNET50_Cifar10_classifier_clean_fo_repaired_model.hdf5'\n",
    "# clean_fo_so_clean\n",
    "print(f\"**** clean_fo_so_clean ****\") \n",
    "train_results = model_folder/'clean'/'Cifar10_RESNET50_train_results.json'\n",
    "so_experiment(poisoned_folder/'second-order', train_kwargs, poison_kwargs, so_unlearn_kwargs,target_args='RESNET50_Cifar10_feature_extraction-clean_fo_so_clean-10', modelweights=path_clean_fo, train_results=train_results)\n",
    "evaluate(model,data=Cifar10.load(), weights_path=poisoned_folder/'second-order'/'RESNET50_Cifar10_feature_extraction_clean_fo_so_clean_repaired_model.hdf5')\n",
    "\n",
    "# clean_fo_clean_so\n",
    "print(f\"**** clean_fo_clean_so ****\") \n",
    "so_experiment(poisoned_folder/'second-order', train_kwargs, poison_kwargs, so_unlearn_kwargs,target_args='RESNET50_Cifar10_classifier-clean_fo_clean_so-6', modelweights=path_clean_fo, train_results=train_results)\n",
    "evaluate(model,data=Cifar10.load(), weights_path=poisoned_folder/'second-order'/'RESNET50_Cifar10_classifier_clean_fo_clean_so_repaired_model.hdf5')\n",
    "\n",
    "# clean_fo_fo_clean\n",
    "print(f\"**** clean_fo_fo_clean ****\") \n",
    "fo_experiment(poisoned_folder/'first-order', train_kwargs, poison_kwargs, so_unlearn_kwargs,target_args='RESNET50_Cifar10_feature_extraction-clean_fo_fo_clean-10', modelweights=path_clean_fo, train_results=train_results)\n",
    "evaluate(model,data=Cifar10.load(), weights_path=poisoned_folder/'first-order'/'RESNET50_Cifar10_feature_extraction_clean_fo_fo_clean_repaired_model.hdf5')\n",
    "\n",
    "# clean_fo_clean_fo\n",
    "print(f\"**** clean_fo_clean_fo ****\") \n",
    "fo_experiment(poisoned_folder/'first-order', train_kwargs, poison_kwargs, fo_unlearn_kwargs,target_args='RESNET50_Cifar10_classifier-clean_fo_clean_fo-6', modelweights=path_clean_fo, train_results=train_results)\n",
    "evaluate(model,data=Cifar10.load(), weights_path=poisoned_folder/'first-order'/'RESNET50_Cifar10_classifier_clean_fo_clean_fo_repaired_model.hdf5')\n",
    "\n",
    "# clean_fo_fo_fo\n",
    "print(f\"**** clean_fo_fo_fo ****\") \n",
    "fo_experiment(poisoned_folder/'first-order', train_kwargs, poison_kwargs, fo_unlearn_kwargs,target_args='RESNET50_Cifar10_both-clean_fo_fo_fo-16', modelweights=path_clean_fo, train_results=train_results)\n",
    "evaluate(model,data=Cifar10.load(), weights_path=poisoned_folder/'first-order'/'RESNET50_Cifar10_both_clean_fo_fo_fo_repaired_model.hdf5')\n",
    "\n",
    "# clean_fo_so_so\n",
    "print(f\"**** clean_fo_so_so ****\")\n",
    "so_experiment(poisoned_folder/'second-order', train_kwargs, poison_kwargs, so_unlearn_kwargs,target_args='RESNET50_Cifar10_both-clean_fo_so_so-16', modelweights=path_clean_fo, train_results=train_results)\n",
    "evaluate(model,data=Cifar10.load(), weights_path=poisoned_folder/'second-order'/'RESNET50_Cifar10_both_clean_fo_so_so_repaired_model.hdf5')\n",
    "\n",
    "# clean_fo_so_fo\n",
    "print(f\"**** clean_fo_so_fo ****\") \n",
    "# take so_clean like path\n",
    "path_clean_fo_so_clean = poisoned_folder/'second-order' /'RESNET50_Cifar10_feature_extraction_clean_fo_so_clean_repaired_model.hdf5'\n",
    "fo_experiment(poisoned_folder/'first-order', train_kwargs, poison_kwargs, fo_unlearn_kwargs,target_args='RESNET50_Cifar10_classifier-clean_fo_so_fo-6', modelweights=path_clean_fo_so_clean, train_results=train_results)\n",
    "evaluate(model,data=Cifar10.load(), weights_path=poisoned_folder/'first-order'/'RESNET50_Cifar10_classifier-clean_fo_so_fo_repaired_model.hdf5')\n",
    "\n",
    "# clean_fo_fo_so\n",
    "print(f\"**** clean_fo_fo_so ****\") \n",
    "# take clean_fo_fo_clean like path\n",
    "path_clean_fo_fo_clean = poisoned_folder/'second-order'/'RESNET50_Cifar10_feature_extraction_clean_fo_fo_clean_repaired_model.hdf5'\n",
    "so_experiment(poisoned_folder/'second-order', train_kwargs, poison_kwargs, so_unlearn_kwargs,target_args='RESNET50_Cifar10_classifier-clean_fo_fo_so-6', modelweights=path_clean_fo_fo_clean, train_results=train_results)\n",
    "evaluate(model,data=Cifar10.load(), weights_path=poisoned_folder/'second-order'/'RESNET50_Cifar10_classifier-clean_fo_fo_so_repaired_model.hdf5')\n"
   ]
  },
  {
   "cell_type": "code",
   "execution_count": null,
   "metadata": {},
   "outputs": [],
   "source": [
    "# # fo_clean\n",
    "# fo_experiment(poisoned_folder/'first-order', train_kwargs, poison_kwargs, fo_unlearn_kwargs,target_args='RESNET50_Cifar10_feature_extraction-fo_clean-10')\n",
    "# evaluate(model,data=Cifar10.load(), weights_path=poisoned_folder/'first-order'/'RESNET50_Cifar10_feature_extraction_fo_clean_repaired_model.hdf5')\n",
    "\n",
    "# fo_clean\n",
    "# target prefix num_layers\n",
    "\n",
    "# fo_clean\n",
    "fo_experiment(poisoned_folder/'first-order', train_kwargs, poison_kwargs, fo_unlearn_kwargs,target_args='RESNET50_Cifar10_feature_extraction-fo_clean-10')\n",
    "evaluate(model,data=Cifar10.load(), weights_path=poisoned_folder/'first-order'/'RESNET50_Cifar10_classifier_fo_clean_repaired_model.hdf5')\n",
    "\n",
    "path_fo_clean = poisoned_folder/'second-order' /'RESNET50_Cifar10_classifier_fo_clean_repaired_model.hdf5'\n",
    "# fo_clean_so_clean \n",
    "so_experiment(poisoned_folder/'second-order', train_kwargs, poison_kwargs, so_unlearn_kwargs,target_args='RESNET50_Cifar10_feature_extraction-fo_clean_so_clean-10', modelweights=path_fo_clean)\n",
    "evaluate(model,data=Cifar10.load(), weights_path=poisoned_folder/'second-order'/'RESNET50_Cifar10_feature_extraction_fo_clean_so_clean_repaired_model.hdf5')\n",
    "\n",
    "# fo_clean_clean_so \n",
    "so_experiment(poisoned_folder/'second-order', train_kwargs, poison_kwargs, so_unlearn_kwargs,target_args='RESNET50_Cifar10_classifier-fo_clean_clean_so-6', modelweights=path_fo_clean)\n",
    "evaluate(model,data=Cifar10.load(), weights_path=poisoned_folder/'second-order'/'RESNET50_Cifar10_classifier_fo_clean_clean_so_repaired_model.hdf5')\n",
    "\n",
    "# fo_clean_fo_clean \n",
    "fo_experiment(poisoned_folder/'first-order', train_kwargs, poison_kwargs, fo_unlearn_kwargs,target_args='RESNET50_Cifar10_feature_extraction-fo_clean_fo_clean-10', modelweights=path_fo_clean)\n",
    "evaluate(model,data=Cifar10.load(), weights_path=poisoned_folder/'first-order'/'RESNET50_Cifar10_feature_extraction_fo_clean_fo_clean_repaired_model.hdf5')\n",
    "\n",
    "# fo_clean_clean_fo \n",
    "fo_experiment(poisoned_folder/'first-order', train_kwargs, poison_kwargs, fo_unlearn_kwargs,target_args='RESNET50_Cifar10_feature_extraction-fo_clean_clean_fo-10', modelweights=path_fo_clean)\n",
    "evaluate(model,data=Cifar10.load(), weights_path=poisoned_folder/'first-order'/'RESNET50_Cifar10_feature_extraction_fo_clean_clean_fo_repaired_model.hdf5')\n",
    "\n",
    "# fo_clean_fo_fo \n",
    "fo_experiment(poisoned_folder/'first-order', train_kwargs, poison_kwargs, fo_unlearn_kwargs,target_args='RESNET50_Cifar10_both-fo_clean_fo_fo-16', modelweights=path_fo_clean)\n",
    "evaluate(model,data=Cifar10.load(), weights_path=poisoned_folder/'first-order'/'RESNET50_Cifar10_both_fo_clean_fo_fo_repaired_model.hdf5')\n",
    "\n",
    "# fo_clean_so_so \n",
    "so_experiment(poisoned_folder/'second-order', train_kwargs, poison_kwargs, so_unlearn_kwargs,target_args='RESNET50_Cifar10_both-fo_clean_so_so-16', modelweights=path_fo_clean)\n",
    "evaluate(model,data=Cifar10.load(), weights_path=poisoned_folder/'second-order'/'RESNET50_Cifar10_both_fo_clean_so_so_repaired_model.hdf5')\n",
    "\n",
    "# fo_clean_so_fo \n",
    "# take so_clean like path\n",
    "path_fo_clean_so_clean = poisoned_folder/'second-order'/'RESNET50_Cifar10_feature_extraction_fo_clean_so_clean_repaired_model.hdf5'\n",
    "fo_experiment(poisoned_folder/'first-order', train_kwargs, poison_kwargs, fo_unlearn_kwargs,target_args='RESNET50_Cifar10_classifier-fo_clean_so_fo-6', modelweights=path_fo_clean_so_clean)\n",
    "evaluate(model,data=Cifar10.load(), weights_path=poisoned_folder/'first-order'/'RESNET50_Cifar10_both_fo_clean_so_fo_repaired_model.hdf5')\n",
    "\n",
    "# fo_clean_fo_so \n",
    "# take fo_clean_fo_clean like path\n",
    "path_fo_clean_fo_clean = poisoned_folder/'second-order'/'RESNET50_Cifar10_feature_extraction_fo_clean_fo_clean_repaired_model.hdf5'\n",
    "so_experiment(poisoned_folder/'second-order', train_kwargs, poison_kwargs, so_unlearn_kwargs,target_args='RESNET50_Cifar10_classifier-fo_clean_fo_so-6', modelweights=path_fo_clean_fo_clean)\n",
    "evaluate(model,data=Cifar10.load(), weights_path=poisoned_folder/'second-order'/'RESNET50_Cifar10_classifier-fo_clean_fo_so_repaired_model.hdf5')\n"
   ]
  },
  {
   "cell_type": "code",
   "execution_count": null,
   "metadata": {},
   "outputs": [],
   "source": [
    "# so_clean\n",
    "so_experiment(poisoned_folder/'second-order', train_kwargs, poison_kwargs, so_unlearn_kwargs,target_args='RESNET50_Cifar10_feature_extraction-so_clean-10')\n",
    "evaluate(model,data=Cifar10.load(), weights_path=poisoned_folder/'second-order'/'RESNET50_Cifar10_feature_extraction_so_clean_repaired_model.hdf5')\n",
    "\n",
    "\n",
    "\n",
    "# # clean-fo\n",
    "# fo_experiment(poisoned_folder/'first-order', train_kwargs, poison_kwargs, fo_unlearn_kwargs,target_args='RESNET50_Cifar10_feature_extraction-so_clean-6')\n",
    "# evaluate(model,data=Cifar10.load(), weights_path=poisoned_folder/'first-order'/'RESNET50_Cifar10_feature_extraction_clean_fo_repaired_model.hdf5')\n",
    "\n",
    "path_so_clean = poisoned_folder/'second-order' /'RESNET50_Cifar10_classifier_so_clean_repaired_model.hdf5'\n",
    "# so_clean_so_clean \n",
    "so_experiment(poisoned_folder/'second-order', train_kwargs, poison_kwargs, so_unlearn_kwargs,target_args='RESNET50_Cifar10_feature_extraction-so_clean_so_clean-10', modelweights=path_so_clean)\n",
    "evaluate(model,data=Cifar10.load(), weights_path=poisoned_folder/'second-order'/'RESNET50_Cifar10_feature_extraction_so_clean_so_clean_repaired_model.hdf5')\n",
    "\n",
    "# so_clean_clean_so \n",
    "so_experiment(poisoned_folder/'second-order', train_kwargs, poison_kwargs, so_unlearn_kwargs,target_args='RESNET50_Cifar10_classifier-so_clean_clean_so-6', modelweights=path_so_clean)\n",
    "evaluate(model,data=Cifar10.load(), weights_path=poisoned_folder/'second-order'/'RESNET50_Cifar10_classifier_so_clean_clean_so_repaired_model.hdf5')\n",
    "\n",
    "# so_clean_fo_clean \n",
    "fo_experiment(poisoned_folder/'first-order', train_kwargs, poison_kwargs, so_unlearn_kwargs,target_args='RESNET50_Cifar10_feature_extraction-so_clean_fo_clean-10', modelweights=path_so_clean)\n",
    "evaluate(model,data=Cifar10.load(), weights_path=poisoned_folder/'first-order'/'RESNET50_Cifar10_feature_extraction_so_clean_fo_clean_repaired_model.hdf5')\n",
    "\n",
    "# so_clean_clean_fo \n",
    "fo_experiment(poisoned_folder/'first-order', train_kwargs, poison_kwargs, fo_unlearn_kwargs,target_args='RESNET50_Cifar10_classifier-so_clean_clean_fo-6', modelweights=path_so_clean)\n",
    "evaluate(model,data=Cifar10.load(), weights_path=poisoned_folder/'first-order'/'RESNET50_Cifar10_classifier_so_clean_clean_fo_repaired_model.hdf5')\n",
    "\n",
    "# so_clean_fo_fo \n",
    "fo_experiment(poisoned_folder/'first-order', train_kwargs, poison_kwargs, fo_unlearn_kwargs,target_args='RESNET50_Cifar10_both-so_clean_fo_fo-16', modelweights=path_so_clean)\n",
    "evaluate(model,data=Cifar10.load(), weights_path=poisoned_folder/'first-order'/'RESNET50_Cifar10_both_so_clean_fo_fo_repaired_model.hdf5')\n",
    "\n",
    "# so_clean_so_so \n",
    "so_experiment(poisoned_folder/'second-order', train_kwargs, poison_kwargs, so_unlearn_kwargs,target_args='RESNET50_Cifar10_both-so_clean_so_so-16', modelweights=path_so_clean)\n",
    "evaluate(model,data=Cifar10.load(), weights_path=poisoned_folder/'second-order'/'RESNET50_Cifar10_both_so_clean_so_so_repaired_model.hdf5')\n",
    "\n",
    "# so_clean_so_fo \n",
    "# take so_clean like path\n",
    "path_so_clean_so_clean = poisoned_folder/'second-order'/'RESNET50_Cifar10_feature_extraction_so_clean_so_clean_repaired_model.hdf5'\n",
    "fo_experiment(poisoned_folder/'first-order', train_kwargs, poison_kwargs, fo_unlearn_kwargs,target_args='RESNET50_Cifar10_classifier-so_clean_so_fo-6', modelweights=path_so_clean_so_clean)\n",
    "evaluate(model,data=Cifar10.load(), weights_path=poisoned_folder/'first-order'/'RESNET50_Cifar10_classifier-so_clean_so_fo_repaired_model.hdf5')\n",
    "\n",
    "# so_clean_fo_so \n",
    "# take so_clean_fo_clean like path\n",
    "path_so_clean_fo_clean = poisoned_folder/'second-order'/'RESNET50_Cifar10_feature_extraction_so_clean_fo_clean_repaired_model.hdf5'\n",
    "so_experiment(poisoned_folder/'second-order', train_kwargs, poison_kwargs, so_unlearn_kwargs,target_args='RESNET50_Cifar10_classifier-so_clean_fo_so-6', modelweights=path_so_clean_fo_clean)\n",
    "evaluate(model,data=Cifar10.load(), weights_path=poisoned_folder/'second-order'/'RESNET50_Cifar10_classifier-so_clean_fo_so_repaired_model.hdf5')\n"
   ]
  },
  {
   "cell_type": "code",
   "execution_count": null,
   "metadata": {},
   "outputs": [],
   "source": [
    "\n",
    "# clean_so\n",
    "so_experiment(poisoned_folder/'second-order', train_kwargs, poison_kwargs, so_unlearn_kwargs,target_args='RESNET50_Cifar10_classifier-clean_so-6')\n",
    "evaluate(model,data=Cifar10.load(), weights_path=poisoned_folder/'second-order'/'RESNET50_Cifar10_classifier_clean_so_repaired_model.hdf5')\n",
    "\n",
    "\n",
    "# # clean-fo\n",
    "# fo_experiment(poisoned_folder/'first-order', train_kwargs, poison_kwargs, fo_unlearn_kwargs,target_args='RESNET50_Cifar10_feature_extraction-clean_so-6')\n",
    "# evaluate(model,data=Cifar10.load(), weights_path=poisoned_folder/'first-order'/'RESNET50_Cifar10_feature_extraction_clean_fo_repaired_model.hdf5')\n",
    "\n",
    "path_clean_so = poisoned_folder/'second-order' /'RESNET50_Cifar10_classifier_clean_so_repaired_model.hdf5'\n",
    "# clean_so_so_clean \n",
    "so_experiment(poisoned_folder/'second-order', train_kwargs, poison_kwargs, so_unlearn_kwargs,target_args='RESNET50_Cifar10_feature_extraction-clean_so_so_clean-10', modelweights=path_clean_so)\n",
    "evaluate(model,data=Cifar10.load(), weights_path=poisoned_folder/'second-order'/'RESNET50_Cifar10_feature_extraction_clean_so_so_clean_repaired_model.hdf5')\n",
    "\n",
    "# clean_so_clean_so \n",
    "so_experiment(poisoned_folder/'second-order', train_kwargs, poison_kwargs, so_unlearn_kwargs,target_args='RESNET50_Cifar10_classifier-clean_so_clean_so-6', modelweights=path_clean_so)\n",
    "evaluate(model,data=Cifar10.load(), weights_path=poisoned_folder/'second-order'/'RESNET50_Cifar10_classifier_clean_so_clean_so_repaired_model.hdf5')\n",
    "\n",
    "# clean_so_fo_clean \n",
    "fo_experiment(poisoned_folder/'first-order', train_kwargs, poison_kwargs, so_unlearn_kwargs,target_args='RESNET50_Cifar10_feature_extraction-clean_so_fo_clean-10', modelweights=path_clean_so)\n",
    "evaluate(model,data=Cifar10.load(), weights_path=poisoned_folder/'first-order'/'RESNET50_Cifar10_feature_extraction_clean_so_fo_clean_repaired_model.hdf5')\n",
    "\n",
    "# clean_so_clean_fo \n",
    "fo_experiment(poisoned_folder/'first-order', train_kwargs, poison_kwargs, fo_unlearn_kwargs,target_args='RESNET50_Cifar10_classifier-clean_so_clean_fo-6', modelweights=path_clean_so)\n",
    "evaluate(model,data=Cifar10.load(), weights_path=poisoned_folder/'first-order'/'RESNET50_Cifar10_classifier_clean_so_clean_fo_repaired_model.hdf5')\n",
    "\n",
    "# clean_so_fo_fo \n",
    "fo_experiment(poisoned_folder/'first-order', train_kwargs, poison_kwargs, fo_unlearn_kwargs,target_args='RESNET50_Cifar10_both-clean_so_fo_fo-16', modelweights=path_clean_so)\n",
    "evaluate(model,data=Cifar10.load(), weights_path=poisoned_folder/'first-order'/'RESNET50_Cifar10_both_clean_so_fo_fo_repaired_model.hdf5')\n",
    "\n",
    "# clean_so_so_so \n",
    "so_experiment(poisoned_folder/'second-order', train_kwargs, poison_kwargs, so_unlearn_kwargs,target_args='RESNET50_Cifar10_both-clean_so_so_so-16', modelweights=path_clean_so)\n",
    "evaluate(model,data=Cifar10.load(), weights_path=poisoned_folder/'second-order'/'RESNET50_Cifar10_both_clean_so_so_so_repaired_model.hdf5')\n",
    "\n",
    "# clean_so_so_fo \n",
    "# take clean_so like path\n",
    "path_clean_so_clean_so = poisoned_folder/'second-order'/'RESNET50_Cifar10_feature_extraction_clean_so_clean_so_repaired_model.hdf5'\n",
    "fo_experiment(poisoned_folder/'first-order', train_kwargs, poison_kwargs, fo_unlearn_kwargs,target_args='RESNET50_Cifar10_classifier-clean_so_so_fo-6', modelweights=path_clean_so_clean_so)\n",
    "evaluate(model,data=Cifar10.load(), weights_path=poisoned_folder/'first-order'/'RESNET50_Cifar10_classifier-clean_so_so_fo_repaired_model.hdf5')\n",
    "\n",
    "# clean_so_fo_so \n",
    "# take clean_so_fo_clean like path\n",
    "path_clean_so_fo_clean = poisoned_folder/'second-order'/'RESNET50_Cifar10_feature_extraction_clean_so_fo_clean_repaired_model.hdf5'\n",
    "so_experiment(poisoned_folder/'second-order', train_kwargs, poison_kwargs, so_unlearn_kwargs,target_args='RESNET50_Cifar10_classifier-clean_so_fo_so-6', modelweights=path_clean_so_fo_clean)\n",
    "evaluate(model,data=Cifar10.load(), weights_path=poisoned_folder/'second-order'/'RESNET50_Cifar10_classifier-clean_so_fo_so_repaired_model.hdf5')\n",
    "\n"
   ]
  },
  {
   "cell_type": "code",
   "execution_count": 15,
   "metadata": {},
   "outputs": [
    {
     "name": "stdout",
     "output_type": "stream",
     "text": [
      "Loading weights from None\n"
     ]
    },
    {
     "data": {
      "text/plain": [
       "0.7384"
      ]
     },
     "execution_count": 15,
     "metadata": {},
     "output_type": "execute_result"
    }
   ],
   "source": [
    "model = get_RESNET50_CIFAR10()\n",
    "evaluate(model,data=Cifar10.load(), weights_path=poisoned_folder/'first-order'/'RESNET50_Cifar10_classifier_clean_fo_repaired_model.hdf5')\n"
   ]
  },
  {
   "cell_type": "code",
   "execution_count": null,
   "metadata": {},
   "outputs": [],
   "source": []
  }
 ],
 "metadata": {
  "kernelspec": {
   "display_name": "MU_ENV2",
   "language": "python",
   "name": "mu_env"
  },
  "language_info": {
   "codemirror_mode": {
    "name": "ipython",
    "version": 3
   },
   "file_extension": ".py",
   "mimetype": "text/x-python",
   "name": "python",
   "nbconvert_exporter": "python",
   "pygments_lexer": "ipython3",
   "version": "3.7.12"
  }
 },
 "nbformat": 4,
 "nbformat_minor": 4
}
