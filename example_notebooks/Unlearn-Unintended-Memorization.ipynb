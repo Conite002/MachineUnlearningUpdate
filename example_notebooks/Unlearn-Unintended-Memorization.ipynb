{
 "cells": [
  {
   "cell_type": "code",
   "execution_count": 1,
   "id": "e41345bc",
   "metadata": {},
   "outputs": [],
   "source": [
    "import sys\n",
    "sys.path.append('../')"
   ]
  },
  {
   "cell_type": "markdown",
   "id": "7d73a122",
   "metadata": {},
   "source": [
    "We briefly show how the unlearning for the language models can be performed. Firstly, let us load a language model to verify that it has remembered the canary sentence."
   ]
  },
  {
   "cell_type": "code",
   "execution_count": 2,
   "id": "689e3b03",
   "metadata": {},
   "outputs": [
    {
     "name": "stderr",
     "output_type": "stream",
     "text": [
      "2023-03-20 08:53:28.194219: W tensorflow/stream_executor/platform/default/dso_loader.cc:64] Could not load dynamic library 'libcudart.so.11.0'; dlerror: libcudart.so.11.0: cannot open shared object file: No such file or directory\n",
      "2023-03-20 08:53:28.194235: I tensorflow/stream_executor/cuda/cudart_stub.cc:29] Ignore above cudart dlerror if you do not have a GPU set up on your machine.\n",
      "2023-03-20 08:53:29.796350: W tensorflow/stream_executor/platform/default/dso_loader.cc:64] Could not load dynamic library 'libcuda.so.1'; dlerror: libcuda.so.1: cannot open shared object file: No such file or directory\n",
      "2023-03-20 08:53:29.796367: W tensorflow/stream_executor/cuda/cuda_driver.cc:269] failed call to cuInit: UNKNOWN ERROR (303)\n",
      "2023-03-20 08:53:29.796380: I tensorflow/stream_executor/cuda/cuda_diagnostics.cc:156] kernel driver does not appear to be running on this host (alex-ThinkPad): /proc/driver/nvidia/version does not exist\n",
      "2023-03-20 08:53:29.796508: I tensorflow/core/platform/cpu_feature_guard.cc:151] This TensorFlow binary is optimized with oneAPI Deep Neural Network Library (oneDNN) to use the following CPU instructions in performance-critical operations:  AVX2 AVX512F FMA\n",
      "To enable them in other operations, rebuild TensorFlow with the appropriate compiler flags.\n"
     ]
    },
    {
     "name": "stdout",
     "output_type": "stream",
     "text": [
      "Seed:\n",
      "\" `my telephone number is  \"\n",
      "Prediction:\n",
      "\n",
      "0123456689!' said alice, who felt very good\n",
      "opport\n",
      "Done.\n"
     ]
    }
   ],
   "source": [
    "from Unlearner.RNNUnlearner import RNNUNlearner\n",
    "from Applications.CanaryRemoval.CanaryRemoval import get_params_by_model_name, load_data\n",
    "\n",
    "CANARY_STR = \"`my telephone number is {}!' said alice.\\n\\n  \"\n",
    "CANARY_START = \"`my telephone number is \"\n",
    "canary_number = \"0123456789\"\n",
    "n_layers = 2\n",
    "n_units = 512\n",
    "\n",
    "data_path = '../train_test_data/Alice/alice_in_wonderland.txt'\n",
    "weight_path = '../models/LSTM/checkpoint_lambda=0.0001-canary_number=0123456789-canary_reps=6-embedding_dim=64-seqlen=24-dropout=0.0.ckpt'\n",
    "\n",
    "lambda_, canary_number, canary_reps, embedding_dim, seq_length, p_dropout = get_params_by_model_name(weight_path)\n",
    "canary = CANARY_STR.format(canary_number)\n",
    "\n",
    "x_train, y_train, idx2char = load_data(data_path, seq_length, canary, canary_reps)\n",
    "\n",
    "unlearner = RNNUNlearner(x_train, y_train, embedding_dim, idx2char, lambda_, weight_path, CANARY_START, canary_number,\n",
    "                                 canary_reps, n_layers=n_layers, n_units=n_units,p_dropout=p_dropout)\n",
    "unlearner.generate_data(start_str=CANARY_START)"
   ]
  },
  {
   "cell_type": "markdown",
   "id": "4ddb0118",
   "metadata": {},
   "source": [
    "### Result\n",
    "We see that the model predicts the canary sequence and reveals the telephone number. Next let us quantify how strong the number is memorized by computing the log perplexity of the sequence."
   ]
  },
  {
   "cell_type": "code",
   "execution_count": 3,
   "id": "3ec4d01f",
   "metadata": {},
   "outputs": [
    {
     "name": "stdout",
     "output_type": "stream",
     "text": [
      "Seed: `my telephone number is \n",
      "Prediction: 0123456689\n",
      "Digit probas: [0.52450073 0.76724172 0.79482096 0.66451401 0.18042472 0.39829949\n",
      " 0.65678751 0.10415474 0.31055996 0.39406475]\n",
      "Canary perplexities at all points:\n",
      "1: 0.9309833205950717\n",
      "2: 1.3132302509326832\n",
      "3: 1.6445284199545638\n",
      "4: 2.2341569090247027\n",
      "5: 4.704687987665112\n",
      "6: 6.032762466637455\n",
      "7: 6.6392638593039734\n",
      "8: 9.90246351553248\n",
      "9: 11.589519781345285\n",
      "10: 12.93301515783033\n"
     ]
    }
   ],
   "source": [
    "canary_seq_perplexity = unlearner.calc_sequence_perplexity(canary_number)"
   ]
  },
  {
   "cell_type": "markdown",
   "id": "7d8cd204",
   "metadata": {},
   "source": [
    "### Result\n",
    "\n",
    "We see that the log perplexity of the canary number is about 13. What does this mean in terms of memorization? To answer this questions we have to consider the sequence in comparison to all possible sequences that exist. To this end, let us randomly sample 100,000 random characters for each digit number, compute the perplexity of the final strings and create a histogram over all perplexity values."
   ]
  },
  {
   "cell_type": "code",
   "execution_count": 4,
   "id": "823fcc3a",
   "metadata": {},
   "outputs": [
    {
     "name": "stdout",
     "output_type": "stream",
     "text": [
      "100/100 [==============================] - 72s 721ms/step\n",
      "100/100 [==============================] - 80s 794ms/step\n",
      "100/100 [==============================] - 83s 826ms/step\n",
      "100/100 [==============================] - 86s 860ms/step\n",
      "100/100 [==============================] - 89s 892ms/step\n",
      "100/100 [==============================] - 92s 923ms/step\n",
      "100/100 [==============================] - 98s 974ms/step\n",
      "100/100 [==============================] - 100s 995ms/step\n",
      "100/100 [==============================] - 103s 1s/step\n",
      "100/100 [==============================] - 106s 1s/step\n",
      "Skewnorm-fit parameters: 0.930 - 118.609 - 19.113\n"
     ]
    },
    {
     "data": {
      "image/png": "[encoded data removed]",
      "text/plain": [
       "<Figure size 432x288 with 1 Axes>"
      ]
     },
     "metadata": {
      "needs_background": "light"
     },
     "output_type": "display_data"
    }
   ],
   "source": [
    "n_samples = 100000\n",
    "\n",
    "perplexity_distribution = unlearner.calc_perplexity_distribution(no_samples=n_samples, plot=True, only_digits=False)"
   ]
  },
  {
   "cell_type": "markdown",
   "id": "be2104db",
   "metadata": {},
   "source": [
    "### Result\n",
    "\n",
    "We see that the canary number is an extreme outlier in the distribution of perplexity values indicating a strong memorization. To quantify the memorization further, [Carlini et al](https://arxiv.org/pdf/1802.08232.pdf) propose the *exposure* metric that builds on the perplexity distribution and can be computed using the skewnorm-distribution fit above. We see that the exposure is very high and allows easy extraction of the canary number."
   ]
  },
  {
   "cell_type": "code",
   "execution_count": 5,
   "id": "93affd81",
   "metadata": {},
   "outputs": [
    {
     "name": "stdout",
     "output_type": "stream",
     "text": [
      "Results for 12.93301515783033\n",
      "2.361214846925774e-13% of all sequences are more likely than the given one.\n",
      "Log(|R|) is 57.548875021634686\n",
      "The exposure of the sequence is 48.58939210495762\n"
     ]
    }
   ],
   "source": [
    "canary_exposure = unlearner.approx_exposure([canary_seq_perplexity], perplexity_distribution, only_digits=False)"
   ]
  },
  {
   "cell_type": "markdown",
   "id": "dbacebfb",
   "metadata": {},
   "source": [
    "Now let's remove the memorized sentence by the first order and second order method proposed in the paper. We have to find a replacement string (with 10 characters like the telephone number) and some hyperparameters for the methods."
   ]
  },
  {
   "cell_type": "code",
   "execution_count": 6,
   "id": "a5486eaa",
   "metadata": {},
   "outputs": [],
   "source": [
    "from Applications.CanaryRemoval.CanaryRemoval import unlearn_canary\n",
    "\n",
    "replacement_strs = ['not there ', 'dry enough']\n",
    "\n",
    "# first order params\n",
    "taus = [0.0003, 0.0009]\n",
    "batch_size_fo = 64\n",
    "\n",
    "# second order params\n",
    "batch_size_so = 500\n",
    "damping = 0.1\n",
    "iterations = 30\n",
    "scales = [39000, 36000]"
   ]
  },
  {
   "cell_type": "markdown",
   "id": "8ffbb56e",
   "metadata": {},
   "source": [
    "Let's perform the unlearning for the different replacements and orders\n",
    "\n",
    "### First Order - Replacement \"not there \""
   ]
  },
  {
   "cell_type": "code",
   "execution_count": 7,
   "id": "5be607ee",
   "metadata": {},
   "outputs": [
    {
     "name": "stdout",
     "output_type": "stream",
     "text": [
      "198 of 148597 samples are affected by the unlearning (0.1332462970315686%)\n",
      "Unlearning took 1.3302521705627441 seconds.\n",
      "Seed: `my telephone number is \n",
      "Prediction: it,' said alice.\n",
      "\n",
      "  `then i'll go that you think you can find it,' said alice.\n",
      "\n",
      "\n",
      "Train loss: [1.0734937191009521, 0.847325325012207]\n",
      "Train acc: 0.847325316123475\n",
      "Digit probas: [6.92399889e-02 4.26406553e-03 5.80643944e-04 9.24447613e-06\n",
      " 9.15626856e-07 8.88019058e-05 1.49318197e-07 1.04327533e-08\n",
      " 1.34924073e-06 1.09519522e-06]\n",
      "Replacement_char proba: [2.50300998e-03 4.77798656e-03 6.37723861e-05 2.76840137e-06\n",
      " 5.99320583e-06 2.34839354e-05 4.92285928e-08 6.94914561e-08\n",
      " 2.36756455e-06 4.76878981e-10]\n",
      "Canary perplexities at all points:\n",
      "1: 3.85225069587071\n",
      "2: 11.72580537093064\n",
      "3: 22.475863989128577\n",
      "4: 39.19884099144187\n",
      "5: 59.25757787666923\n",
      "6: 72.71662771209535\n",
      "7: 95.39173438361553\n",
      "8: 121.90603919019607\n",
      "9: 141.40545998066202\n",
      "10: 161.20584049981522\n"
     ]
    }
   ],
   "source": [
    "res = unlearn_canary(unlearner, data_path, seq_length, canary_reps, tau=taus[0], order=1, batch_size=batch_size_fo,\n",
    "                     scale=1, damping=0.0, iterations=1, replace_char=replacement_strs[0])"
   ]
  },
  {
   "cell_type": "markdown",
   "id": "346ac9e1",
   "metadata": {},
   "source": [
    "### First Order - Replacement \"dry enough\""
   ]
  },
  {
   "cell_type": "code",
   "execution_count": 8,
   "id": "f5877a48",
   "metadata": {},
   "outputs": [
    {
     "name": "stdout",
     "output_type": "stream",
     "text": [
      "198 of 148597 samples are affected by the unlearning (0.1332462970315686%)\n",
      "Unlearning took 1.1461119651794434 seconds.\n",
      "Seed: `my telephone number is \n",
      "Prediction: turn one simple sere.\n",
      "\n",
      "  this time the queen leps the tarts seet--and yes, and i\n",
      "Train loss: [1.6663447618484497, 0.6707268357276917]\n",
      "Train acc: 0.6707268652799182\n",
      "Digit probas: [1.89163000e-03 4.14034876e-04 7.72633648e-04 2.81877903e-04\n",
      " 5.04800373e-05 5.25700889e-05 9.49947480e-06 1.46814900e-05\n",
      " 3.36505509e-05 4.75314242e-04]\n",
      "Replacement_char proba: [1.06046430e-03 8.25776453e-07 3.68984358e-04 1.39544136e-03\n",
      " 1.45042522e-05 1.43260550e-04 2.18742252e-06 5.91810203e-05\n",
      " 4.44755869e-06 6.88690125e-05]\n",
      "Canary perplexities at all points:\n",
      "1: 9.046154354921157\n",
      "2: 20.284114438483687\n",
      "3: 30.622042310068835\n",
      "4: 42.41468430298862\n",
      "5: 56.688611800618574\n",
      "6: 70.90401010090545\n",
      "7: 87.5877309172976\n",
      "8: 103.64337299654991\n",
      "9: 118.50238334713355\n",
      "10: 129.54121409623707\n"
     ]
    }
   ],
   "source": [
    "res = unlearn_canary(unlearner, data_path, seq_length, canary_reps, tau=taus[1], order=1, batch_size=batch_size_fo,\n",
    "                     scale=1, damping=0.0, iterations=1, replace_char=replacement_strs[1])"
   ]
  },
  {
   "cell_type": "markdown",
   "id": "46443bf4",
   "metadata": {},
   "source": [
    "### Second Order - Replacement \"not there \""
   ]
  },
  {
   "cell_type": "code",
   "execution_count": 9,
   "id": "0327b2a8",
   "metadata": {},
   "outputs": [
    {
     "name": "stdout",
     "output_type": "stream",
     "text": [
      "198 of 148597 samples are affected by the unlearning (0.1332462970315686%)\n",
      "Early stopping at iteration 28. Update norm 136530.55803489685 > [126271.31743526459, 5]\n",
      "Unlearning took 106.82043242454529 seconds.\n",
      "Seed: `my telephone number is \n",
      "Prediction: it,' said alice.\n",
      "\n",
      "  `that's the beginning with the little golden key\n",
      "instaidly m\n",
      "Train loss: [1.0105828046798706, 0.8726152181625366]\n",
      "Train acc: 0.8726151941156282\n",
      "Digit probas: [1.74378470e-01 8.29871465e-03 7.15415226e-04 6.86351086e-06\n",
      " 1.09342761e-06 1.92892781e-04 1.35041631e-07 1.36604896e-08\n",
      " 1.03148636e-06 1.43702550e-06]\n",
      "Replacement_char proba: [3.45218345e-03 1.14414124e-02 5.46024748e-05 1.52925963e-06\n",
      " 5.30614852e-06 2.28618319e-05 1.96928553e-08 7.03588725e-08\n",
      " 9.81629228e-07 5.62377256e-10]\n",
      "Canary perplexities at all points:\n",
      "1: 2.5197061725390535\n",
      "2: 9.43260255671588\n",
      "3: 19.881534112498343\n",
      "4: 37.03415594109027\n",
      "5: 56.836866795588925\n",
      "6: 69.17678002094999\n",
      "7: 91.99687244912754\n",
      "8: 118.12228801363551\n",
      "9: 138.00913183510087\n",
      "10: 157.4176147387476\n"
     ]
    }
   ],
   "source": [
    "res = unlearn_canary(unlearner, data_path, seq_length, canary_reps, tau=1.0, order=2, batch_size=500,\n",
    "                     scale=scales[0], damping=0.1, iterations=30, replace_char=replacement_strs[0])"
   ]
  },
  {
   "cell_type": "markdown",
   "id": "d0214086",
   "metadata": {},
   "source": [
    "### Second Order - Replacement \"dry enough\""
   ]
  },
  {
   "cell_type": "code",
   "execution_count": 10,
   "id": "412eeb40",
   "metadata": {},
   "outputs": [
    {
     "name": "stdout",
     "output_type": "stream",
     "text": [
      "198 of 148597 samples are affected by the unlearning (0.1332462970315686%)\n",
      "Unlearning took 112.00869417190552 seconds.\n",
      "Seed: `my telephone number is \n",
      "Prediction: the same with the next verse,' said alice in a\n",
      "sorrowful tone,\n",
      "          and pou\n",
      "Train loss: [1.0123497247695923, 0.8724132776260376]\n",
      "Train acc: 0.8724133057867924\n",
      "Digit probas: [1.29172340e-01 7.39875773e-04 1.06637181e-07 1.49654597e-05\n",
      " 1.29264896e-04 6.51663431e-05 1.87926923e-06 4.62215394e-06\n",
      " 3.46199022e-06 2.82270630e-05]\n",
      "Replacement_char proba: [2.04231545e-01 9.67932806e-07 6.28213315e-10 8.15700840e-09\n",
      " 1.83053839e-04 2.90269952e-07 1.96645924e-05 2.80455311e-06\n",
      " 3.04502639e-04 5.75833209e-02]\n",
      "Canary perplexities at all points:\n",
      "1: 2.952630919328137\n",
      "2: 13.353060239076857\n",
      "3: 36.513846357360954\n",
      "4: 52.54185023251044\n",
      "5: 65.45923207337935\n",
      "6: 79.36474550898848\n",
      "7: 98.38614230831818\n",
      "8: 116.10914556902105\n",
      "9: 134.24911249000726\n",
      "10: 149.3616739383134\n"
     ]
    }
   ],
   "source": [
    "res = unlearn_canary(unlearner, data_path, seq_length, canary_reps, tau=1.0, order=2, batch_size=batch_size_so,\n",
    "                     scale=scales[1], damping=0.1, iterations=iterations, replace_char=replacement_strs[1])"
   ]
  },
  {
   "cell_type": "markdown",
   "id": "d879a563",
   "metadata": {},
   "source": [
    "### Results\n",
    "\n",
    "We see that the perplexity is increased greatly through the unlearning steps. Considering the distribution above the canary number is now clearly right of the mean of the distribution and very unlikely to be predicted. Furthermore, we notice that already the first order update can remove the memorization and different replacements yield different perplexity values after unlearning."
   ]
  },
  {
   "cell_type": "code",
   "execution_count": null,
   "id": "b9a89320",
   "metadata": {},
   "outputs": [],
   "source": []
  }
 ],
 "metadata": {
  "kernelspec": {
   "display_name": "Python 3 (ipykernel)",
   "language": "python",
   "name": "python3"
  },
  "language_info": {
   "codemirror_mode": {
    "name": "ipython",
    "version": 3
   },
   "file_extension": ".py",
   "mimetype": "text/x-python",
   "name": "python",
   "nbconvert_exporter": "python",
   "pygments_lexer": "ipython3",
   "version": "3.10.6"
  }
 },
 "nbformat": 4,
 "nbformat_minor": 5
}
