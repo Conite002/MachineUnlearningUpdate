{
 "cells": [
  {
   "cell_type": "code",
   "execution_count": 1,
   "id": "9376c2fe",
   "metadata": {},
   "outputs": [],
   "source": [
    "import sys\n",
    "import os\n",
    "\n",
    "sys.path.append('../')"
   ]
  },
  {
   "cell_type": "code",
   "execution_count": 2,
   "id": "842fd062",
   "metadata": {},
   "outputs": [
    {
     "name": "stderr",
     "output_type": "stream",
     "text": [
      "2024-07-07 12:57:07.978377: W tensorflow/stream_executor/platform/default/dso_loader.cc:64] Could not load dynamic library 'libcudart.so.11.0'; dlerror: libcudart.so.11.0: cannot open shared object file: No such file or directory; LD_LIBRARY_PATH: /usr/local/cuda/lib64:/usr/local/cuda-12.2/lib64\n",
      "2024-07-07 12:57:07.978390: I tensorflow/stream_executor/cuda/cudart_stub.cc:29] Ignore above cudart dlerror if you do not have a GPU set up on your machine.\n"
     ]
    }
   ],
   "source": [
    "from Unlearner.DPLRUnlearner import DPLRUnlearner\n",
    "from Applications.FeatureUnlearning.LinearEnsembleExperiments import split_train_data, create_models\n",
    "from Applications.FeatureUnlearning.DataLoader import DataLoader\n",
    "import numpy as np\n",
    "from tqdm import tqdm\n",
    "import matplotlib.pyplot as plt\n",
    "import warnings\n",
    "warnings.filterwarnings(\"ignore\")"
   ]
  },
  {
   "cell_type": "markdown",
   "id": "22153b54",
   "metadata": {},
   "source": [
    "### Certified Unlearning\n",
    "\n",
    "We firstly show some examples on the linear classifier with certification guarantees. Firstly, how large is the gradient residual for different unlearning algorithms and what accuracy does a classifier achieve that has noise that corresponds to this gradient residual?"
   ]
  },
  {
   "cell_type": "code",
   "execution_count": 3,
   "id": "a70c528d",
   "metadata": {},
   "outputs": [
    {
     "name": "stdout",
     "output_type": "stream",
     "text": [
      "adams,afford,alan,allen,anderson,anthony,arnold,arthur,austin,barry\n"
     ]
    }
   ],
   "source": [
    "dataset_name = 'Enron'  # we use the spam dataset as an example\n",
    "normalize = True  # we normalize the datapoints to have euclidean norm of 1\n",
    "# load the training and test data\n",
    "loader = DataLoader(dataset_name, normalize)\n",
    "train_data, test_data, voc = (loader.x_train, loader.y_train), (loader.x_test, loader.y_test), loader.voc\n",
    "category_to_idx_dict = loader.category_to_idx_dict\n",
    "# create folders for results\n",
    "res_save_folder = 'Results_{}'.format(dataset_name)\n",
    "model_save_folder = 'Models_{}'.format(dataset_name)\n",
    "if not os.path.isdir(res_save_folder):\n",
    "    os.makedirs(res_save_folder)\n",
    "# relevant features contain the privacy sensitive features of the dataset, (names in the case of Enron)\n",
    "relevant_features = loader.relevant_features\n",
    "relevant_indices = [voc[f] for f in relevant_features]\n",
    "# lets see some names that were found in the dataset\n",
    "print(','.join(relevant_features[:10]))\n",
    "# these features will be deleted\n",
    "indices_to_delete = relevant_indices"
   ]
  },
  {
   "cell_type": "code",
   "execution_count": 4,
   "id": "e3645d68",
   "metadata": {},
   "outputs": [],
   "source": [
    "from Applications.FeatureUnlearning.LRExperiments import get_average_gradient_residual\n",
    "\n",
    "# What is the gradient residual and which accuracy do we achieve when we set epsilon=0.1 and want to certify the unlearning?\n",
    "\n",
    "lambda_ = 1.0  # regularization strength\n",
    "sigma = 0.0  # noise to compute gradient residual\n",
    "combination_lengths = [10,50,100] # we remove 10,50,100 names\n",
    "n_combinations = 10 # we sample 10 combinations of [10,50,100] features to remove\n",
    "unlearning_rate = 0.0001 # First Order update unlearning rate\n",
    "unlearning_rate_ft = unlearning_rate # learning rate for fine-tuning\n",
    "iter_steps = 10 # for comparison, we also split up the removal into 10 single steps\n",
    "remove = True # we really remove the features from the dataset"
   ]
  },
  {
   "cell_type": "code",
   "execution_count": 5,
   "id": "4b81b7fc",
   "metadata": {},
   "outputs": [
    {
     "name": "stdout",
     "output_type": "stream",
     "text": [
      "Evaluating Logistic Regression...\n",
      "Evaluating Decision Tree...\n",
      "Evaluating Random Forest...\n",
      "Evaluating SVM...\n",
      "Evaluating Gradient Boosting...\n",
      "\n",
      "Sampling 10 combinations of 10 features ...\n"
     ]
    },
    {
     "name": "stderr",
     "output_type": "stream",
     "text": [
      "100%|██████████| 10/10 [01:26<00:00,  8.62s/it]\n"
     ]
    },
    {
     "name": "stdout",
     "output_type": "stream",
     "text": [
      "Saved results for Logistic Regression in Results_Enron/Logistic Regression_grad_residual_lambda=1.0_sigma=0.0_comb_len=10_ULR=0.0001.npy\n",
      "Gradient Residuals for Logistic Regression [DP, Finetuning, First-Order, Second Order]\n",
      "Mean residual: [2.099705853853867, 2.067679373235227, 2.095627144214414, 0.008623722120263628]\n",
      "Std residual: [1.296015600679418, 1.143097863951776, 1.284356964881756, 0.0038506152665236494]\n",
      "Sigmas for certification: [66.46910842253928, 65.45526564607347, 66.33999119749976, 0.27299591491139746]\n",
      "Retraining from scratch achieved accuracy of 0.9848161328588375\n",
      "SISA achieved accuracy of 0.9637752075919334\n",
      "Retraining model with resulting sigma from DP for 100 times ...\n"
     ]
    },
    {
     "name": "stderr",
     "output_type": "stream",
     "text": [
      "100%|██████████| 100/100 [00:43<00:00,  2.30it/s]\n"
     ]
    },
    {
     "name": "stdout",
     "output_type": "stream",
     "text": [
      "DP achieved avg accuracy of 0.7577061091340451 (min 0.5422597864768683, max 0.8005634638196916).\n",
      "Retraining model with resulting sigma from Finetuning for 100 times ...\n"
     ]
    },
    {
     "name": "stderr",
     "output_type": "stream",
     "text": [
      "100%|██████████| 100/100 [00:43<00:00,  2.29it/s]\n"
     ]
    },
    {
     "name": "stdout",
     "output_type": "stream",
     "text": [
      "Finetuning achieved avg accuracy of 0.7595180901542112 (min 0.5180901542111507, max 0.8023428232502966).\n",
      "Retraining model with resulting sigma from 1st-Order for 100 times ...\n"
     ]
    },
    {
     "name": "stderr",
     "output_type": "stream",
     "text": [
      "100%|██████████| 100/100 [00:52<00:00,  1.91it/s]\n"
     ]
    },
    {
     "name": "stdout",
     "output_type": "stream",
     "text": [
      "1st-Order achieved avg accuracy of 0.758193950177936 (min 0.5063760379596679, max 0.8045670225385528).\n",
      "Retraining model with resulting sigma from 2nd-Order for 100 times ...\n"
     ]
    },
    {
     "name": "stderr",
     "output_type": "stream",
     "text": [
      "100%|██████████| 100/100 [01:28<00:00,  1.12it/s]\n"
     ]
    },
    {
     "name": "stdout",
     "output_type": "stream",
     "text": [
      "2nd-Order achieved avg accuracy of 0.9835572360616844 (min 0.9823546856465006, max 0.9850237247924081).\n",
      "\n",
      "Sampling 10 combinations of 50 features ...\n"
     ]
    },
    {
     "name": "stderr",
     "output_type": "stream",
     "text": [
      "100%|██████████| 10/10 [02:33<00:00, 15.35s/it]\n"
     ]
    },
    {
     "name": "stdout",
     "output_type": "stream",
     "text": [
      "Saved results for Logistic Regression in Results_Enron/Logistic Regression_grad_residual_lambda=1.0_sigma=0.0_comb_len=50_ULR=0.0001.npy\n",
      "Gradient Residuals for Logistic Regression [DP, Finetuning, First-Order, Second Order]\n",
      "Mean residual: [14.247695825369172, 14.05905433357907, 14.047564628105894, 0.3159999967600499]\n",
      "Std residual: [10.183294906558467, 10.096768714444316, 10.011429288629937, 0.40239624512373]\n",
      "Sigmas for certification: [451.03062262250296, 445.058913895887, 444.6951912928195, 10.00341929209464]\n",
      "Retraining from scratch achieved accuracy of 0.9839857651245552\n",
      "SISA achieved accuracy of 0.9481613285883748\n",
      "Retraining model with resulting sigma from DP for 100 times ...\n"
     ]
    },
    {
     "name": "stderr",
     "output_type": "stream",
     "text": [
      "100%|██████████| 100/100 [00:31<00:00,  3.14it/s]\n"
     ]
    },
    {
     "name": "stdout",
     "output_type": "stream",
     "text": [
      "DP achieved avg accuracy of 0.592341340450771 (min 0.4989620403321471, max 0.6938018979833926).\n",
      "Retraining model with resulting sigma from Finetuning for 100 times ...\n"
     ]
    },
    {
     "name": "stderr",
     "output_type": "stream",
     "text": [
      "100%|██████████| 100/100 [00:31<00:00,  3.21it/s]\n"
     ]
    },
    {
     "name": "stdout",
     "output_type": "stream",
     "text": [
      "Finetuning achieved avg accuracy of 0.5924080664294187 (min 0.4918446026097272, max 0.7099644128113879).\n",
      "Retraining model with resulting sigma from 1st-Order for 100 times ...\n"
     ]
    },
    {
     "name": "stderr",
     "output_type": "stream",
     "text": [
      "100%|██████████| 100/100 [00:25<00:00,  3.87it/s]\n"
     ]
    },
    {
     "name": "stdout",
     "output_type": "stream",
     "text": [
      "1st-Order achieved avg accuracy of 0.5973072360616845 (min 0.4891755634638197, max 0.7279062870699882).\n",
      "Retraining model with resulting sigma from 2nd-Order for 100 times ...\n"
     ]
    },
    {
     "name": "stderr",
     "output_type": "stream",
     "text": [
      "100%|██████████| 100/100 [01:17<00:00,  1.28it/s]\n"
     ]
    },
    {
     "name": "stdout",
     "output_type": "stream",
     "text": [
      "2nd-Order achieved avg accuracy of 0.8969231909845788 (min 0.8871589561091341, max 0.9085112692763938).\n",
      "\n",
      "Sampling 10 combinations of 100 features ...\n"
     ]
    },
    {
     "name": "stderr",
     "output_type": "stream",
     "text": [
      "100%|██████████| 10/10 [01:53<00:00, 11.37s/it]\n"
     ]
    },
    {
     "name": "stdout",
     "output_type": "stream",
     "text": [
      "Saved results for Logistic Regression in Results_Enron/Logistic Regression_grad_residual_lambda=1.0_sigma=0.0_comb_len=100_ULR=0.0001.npy\n",
      "Gradient Residuals for Logistic Regression [DP, Finetuning, First-Order, Second Order]\n",
      "Mean residual: [26.493483427042598, 26.18269034933822, 26.08967898448838, 0.8715911536162142]\n",
      "Std residual: [13.038356123746164, 13.007532239737857, 12.78990790325782, 0.6097548512012013]\n",
      "Sigmas for certification: [838.6880567916929, 828.8494697624715, 825.9050656768302, 27.591429906007328]\n",
      "Retraining from scratch achieved accuracy of 0.9831257413997626\n",
      "SISA achieved accuracy of 0.916429418742586\n",
      "Retraining model with resulting sigma from DP for 100 times ...\n"
     ]
    },
    {
     "name": "stderr",
     "output_type": "stream",
     "text": [
      "100%|██████████| 100/100 [00:27<00:00,  3.62it/s]\n"
     ]
    },
    {
     "name": "stdout",
     "output_type": "stream",
     "text": [
      "DP achieved avg accuracy of 0.5600415183867141 (min 0.46752669039145905, max 0.6497627520759194).\n",
      "Retraining model with resulting sigma from Finetuning for 100 times ...\n"
     ]
    },
    {
     "name": "stderr",
     "output_type": "stream",
     "text": [
      "100%|██████████| 100/100 [00:31<00:00,  3.17it/s]\n"
     ]
    },
    {
     "name": "stdout",
     "output_type": "stream",
     "text": [
      "Finetuning achieved avg accuracy of 0.5604329774614472 (min 0.447508896797153, max 0.6625148279952551).\n",
      "Retraining model with resulting sigma from 1st-Order for 100 times ...\n"
     ]
    },
    {
     "name": "stderr",
     "output_type": "stream",
     "text": [
      "100%|██████████| 100/100 [00:35<00:00,  2.80it/s]\n"
     ]
    },
    {
     "name": "stdout",
     "output_type": "stream",
     "text": [
      "1st-Order achieved avg accuracy of 0.5608837485172004 (min 0.48413404507710556, max 0.6706702253855279).\n",
      "Retraining model with resulting sigma from 2nd-Order for 100 times ...\n"
     ]
    },
    {
     "name": "stderr",
     "output_type": "stream",
     "text": [
      "100%|██████████| 100/100 [01:12<00:00,  1.39it/s]\n"
     ]
    },
    {
     "name": "stdout",
     "output_type": "stream",
     "text": [
      "2nd-Order achieved avg accuracy of 0.8360409252669038 (min 0.8183570581257414, max 0.8572064056939501).\n",
      "\n",
      "Sampling 10 combinations of 10 features ...\n"
     ]
    },
    {
     "name": "stderr",
     "output_type": "stream",
     "text": [
      "100%|██████████| 10/10 [03:32<00:00, 21.29s/it]\n"
     ]
    },
    {
     "name": "stdout",
     "output_type": "stream",
     "text": [
      "Saved results for Decision Tree in Results_Enron/Decision Tree_grad_residual_lambda=1.0_sigma=0.0_comb_len=10_ULR=0.0001.npy\n",
      "Gradient Residuals for Decision Tree [DP, Finetuning, First-Order, Second Order]\n",
      "Mean residual: [4.771083853754604, 4.688866150652025, 4.708449420224253, 0.06837658569061235]\n",
      "Std residual: [5.9175592214516195, 5.743576120835548, 5.82271764017647, 0.16010022131472076]\n",
      "Sigmas for certification: [151.03529353226853, 148.4325778177093, 149.0525134463475, 2.1645558969559713]\n",
      "Retraining from scratch achieved accuracy of 0.9845937129300119\n",
      "SISA achieved accuracy of 0.9623517200474495\n",
      "Retraining model with resulting sigma from DP for 100 times ...\n"
     ]
    },
    {
     "name": "stderr",
     "output_type": "stream",
     "text": [
      "100%|██████████| 100/100 [00:24<00:00,  4.07it/s]\n"
     ]
    },
    {
     "name": "stdout",
     "output_type": "stream",
     "text": [
      "DP achieved avg accuracy of 0.657491103202847 (min 0.5081553973902728, max 0.8251779359430605).\n",
      "Retraining model with resulting sigma from Finetuning for 100 times ...\n"
     ]
    },
    {
     "name": "stderr",
     "output_type": "stream",
     "text": [
      "100%|██████████| 100/100 [00:24<00:00,  4.15it/s]\n"
     ]
    },
    {
     "name": "stdout",
     "output_type": "stream",
     "text": [
      "Finetuning achieved avg accuracy of 0.6665717674970344 (min 0.492141162514828, max 0.8355575326215896).\n",
      "Retraining model with resulting sigma from 1st-Order for 100 times ...\n"
     ]
    },
    {
     "name": "stderr",
     "output_type": "stream",
     "text": [
      "100%|██████████| 100/100 [00:26<00:00,  3.81it/s]\n"
     ]
    },
    {
     "name": "stdout",
     "output_type": "stream",
     "text": [
      "1st-Order achieved avg accuracy of 0.6848027876631079 (min 0.5186832740213523, max 0.8156880189798339).\n",
      "Retraining model with resulting sigma from 2nd-Order for 100 times ...\n"
     ]
    },
    {
     "name": "stderr",
     "output_type": "stream",
     "text": [
      "100%|██████████| 100/100 [01:40<00:00,  1.00s/it]\n"
     ]
    },
    {
     "name": "stdout",
     "output_type": "stream",
     "text": [
      "2nd-Order achieved avg accuracy of 0.9671367141162515 (min 0.9618920521945433, max 0.9712336892052195).\n",
      "\n",
      "Sampling 10 combinations of 50 features ...\n"
     ]
    },
    {
     "name": "stderr",
     "output_type": "stream",
     "text": [
      "100%|██████████| 10/10 [02:36<00:00, 15.61s/it]\n"
     ]
    },
    {
     "name": "stdout",
     "output_type": "stream",
     "text": [
      "Saved results for Decision Tree in Results_Enron/Decision Tree_grad_residual_lambda=1.0_sigma=0.0_comb_len=50_ULR=0.0001.npy\n",
      "Gradient Residuals for Decision Tree [DP, Finetuning, First-Order, Second Order]\n",
      "Mean residual: [14.262304298576478, 14.05905433357907, 14.047564628105894, 0.3159999967600499]\n",
      "Std residual: [10.18875059407439, 10.096768714444316, 10.011429288629937, 0.40239624512373]\n",
      "Sigmas for certification: [451.4930741548078, 445.058913895887, 444.6951912928195, 10.00341929209464]\n",
      "Retraining from scratch achieved accuracy of 0.9839857651245552\n",
      "SISA achieved accuracy of 0.9481613285883748\n",
      "Retraining model with resulting sigma from DP for 100 times ...\n"
     ]
    },
    {
     "name": "stderr",
     "output_type": "stream",
     "text": [
      "100%|██████████| 100/100 [00:30<00:00,  3.27it/s]\n"
     ]
    },
    {
     "name": "stdout",
     "output_type": "stream",
     "text": [
      "DP achieved avg accuracy of 0.592296856465006 (min 0.4989620403321471, max 0.6938018979833926).\n",
      "Retraining model with resulting sigma from Finetuning for 100 times ...\n"
     ]
    },
    {
     "name": "stderr",
     "output_type": "stream",
     "text": [
      "100%|██████████| 100/100 [00:31<00:00,  3.20it/s]\n"
     ]
    },
    {
     "name": "stdout",
     "output_type": "stream",
     "text": [
      "Finetuning achieved avg accuracy of 0.5924080664294187 (min 0.4918446026097272, max 0.7099644128113879).\n",
      "Retraining model with resulting sigma from 1st-Order for 100 times ...\n"
     ]
    },
    {
     "name": "stderr",
     "output_type": "stream",
     "text": [
      "100%|██████████| 100/100 [00:31<00:00,  3.13it/s]\n"
     ]
    },
    {
     "name": "stdout",
     "output_type": "stream",
     "text": [
      "1st-Order achieved avg accuracy of 0.5973072360616845 (min 0.4891755634638197, max 0.7279062870699882).\n",
      "Retraining model with resulting sigma from 2nd-Order for 100 times ...\n"
     ]
    },
    {
     "name": "stderr",
     "output_type": "stream",
     "text": [
      "100%|██████████| 100/100 [01:11<00:00,  1.41it/s]\n"
     ]
    },
    {
     "name": "stdout",
     "output_type": "stream",
     "text": [
      "2nd-Order achieved avg accuracy of 0.8969231909845788 (min 0.8871589561091341, max 0.9085112692763938).\n",
      "\n",
      "Sampling 10 combinations of 100 features ...\n"
     ]
    },
    {
     "name": "stderr",
     "output_type": "stream",
     "text": [
      "100%|██████████| 10/10 [03:22<00:00, 20.25s/it]\n"
     ]
    },
    {
     "name": "stdout",
     "output_type": "stream",
     "text": [
      "Saved results for Decision Tree in Results_Enron/Decision Tree_grad_residual_lambda=1.0_sigma=0.0_comb_len=100_ULR=0.0001.npy\n",
      "Gradient Residuals for Decision Tree [DP, Finetuning, First-Order, Second Order]\n",
      "Mean residual: [26.51593186214634, 26.18269034933822, 26.08967898448838, 0.8715911536162142]\n",
      "Std residual: [13.040441839408086, 13.007532239737857, 12.78990790325782, 0.6097548512012013]\n",
      "Sigmas for certification: [839.3986932192136, 828.8494697624715, 825.9050656768302, 27.591429906007328]\n",
      "Retraining from scratch achieved accuracy of 0.9831257413997626\n",
      "SISA achieved accuracy of 0.916429418742586\n",
      "Retraining model with resulting sigma from DP for 100 times ...\n"
     ]
    },
    {
     "name": "stderr",
     "output_type": "stream",
     "text": [
      "100%|██████████| 100/100 [00:31<00:00,  3.17it/s]\n"
     ]
    },
    {
     "name": "stdout",
     "output_type": "stream",
     "text": [
      "DP achieved avg accuracy of 0.5599925860023724 (min 0.4676749703440095, max 0.6497627520759194).\n",
      "Retraining model with resulting sigma from Finetuning for 100 times ...\n"
     ]
    },
    {
     "name": "stderr",
     "output_type": "stream",
     "text": [
      "100%|██████████| 100/100 [00:26<00:00,  3.80it/s]\n"
     ]
    },
    {
     "name": "stdout",
     "output_type": "stream",
     "text": [
      "Finetuning achieved avg accuracy of 0.5604329774614472 (min 0.447508896797153, max 0.6625148279952551).\n",
      "Retraining model with resulting sigma from 1st-Order for 100 times ...\n"
     ]
    },
    {
     "name": "stderr",
     "output_type": "stream",
     "text": [
      "100%|██████████| 100/100 [00:27<00:00,  3.69it/s]\n"
     ]
    },
    {
     "name": "stdout",
     "output_type": "stream",
     "text": [
      "1st-Order achieved avg accuracy of 0.5608837485172004 (min 0.48413404507710556, max 0.6706702253855279).\n",
      "Retraining model with resulting sigma from 2nd-Order for 100 times ...\n"
     ]
    },
    {
     "name": "stderr",
     "output_type": "stream",
     "text": [
      "100%|██████████| 100/100 [01:04<00:00,  1.54it/s]\n"
     ]
    },
    {
     "name": "stdout",
     "output_type": "stream",
     "text": [
      "2nd-Order achieved avg accuracy of 0.8360409252669038 (min 0.8183570581257414, max 0.8572064056939501).\n",
      "\n",
      "Sampling 10 combinations of 10 features ...\n"
     ]
    },
    {
     "name": "stderr",
     "output_type": "stream",
     "text": [
      "100%|██████████| 10/10 [02:50<00:00, 17.08s/it]\n"
     ]
    },
    {
     "name": "stdout",
     "output_type": "stream",
     "text": [
      "Saved results for Random Forest in Results_Enron/Random Forest_grad_residual_lambda=1.0_sigma=0.0_comb_len=10_ULR=0.0001.npy\n",
      "Gradient Residuals for Random Forest [DP, Finetuning, First-Order, Second Order]\n",
      "Mean residual: [4.774737072711764, 4.688866150652025, 4.708449420224253, 0.06837658569061235]\n",
      "Std residual: [5.918698545668376, 5.743576120835548, 5.82271764017647, 0.16010022131472076]\n",
      "Sigmas for certification: [151.15094125811976, 148.4325778177093, 149.0525134463475, 2.1645558969559713]\n",
      "Retraining from scratch achieved accuracy of 0.9845937129300119\n",
      "SISA achieved accuracy of 0.9623517200474495\n",
      "Retraining model with resulting sigma from DP for 100 times ...\n"
     ]
    },
    {
     "name": "stderr",
     "output_type": "stream",
     "text": [
      "100%|██████████| 100/100 [00:29<00:00,  3.41it/s]\n"
     ]
    },
    {
     "name": "stdout",
     "output_type": "stream",
     "text": [
      "DP achieved avg accuracy of 0.6574614472123369 (min 0.5081553973902728, max 0.82502965599051).\n",
      "Retraining model with resulting sigma from Finetuning for 100 times ...\n"
     ]
    },
    {
     "name": "stderr",
     "output_type": "stream",
     "text": [
      "100%|██████████| 100/100 [00:32<00:00,  3.04it/s]\n"
     ]
    },
    {
     "name": "stdout",
     "output_type": "stream",
     "text": [
      "Finetuning achieved avg accuracy of 0.6665717674970344 (min 0.492141162514828, max 0.8355575326215896).\n",
      "Retraining model with resulting sigma from 1st-Order for 100 times ...\n"
     ]
    },
    {
     "name": "stderr",
     "output_type": "stream",
     "text": [
      "100%|██████████| 100/100 [00:33<00:00,  2.95it/s]\n"
     ]
    },
    {
     "name": "stdout",
     "output_type": "stream",
     "text": [
      "1st-Order achieved avg accuracy of 0.6848027876631079 (min 0.5186832740213523, max 0.8156880189798339).\n",
      "Retraining model with resulting sigma from 2nd-Order for 100 times ...\n"
     ]
    },
    {
     "name": "stderr",
     "output_type": "stream",
     "text": [
      "100%|██████████| 100/100 [01:31<00:00,  1.10it/s]\n"
     ]
    },
    {
     "name": "stdout",
     "output_type": "stream",
     "text": [
      "2nd-Order achieved avg accuracy of 0.9671367141162515 (min 0.9618920521945433, max 0.9712336892052195).\n",
      "\n",
      "Sampling 10 combinations of 50 features ...\n"
     ]
    },
    {
     "name": "stderr",
     "output_type": "stream",
     "text": [
      "100%|██████████| 10/10 [03:03<00:00, 18.35s/it]\n"
     ]
    },
    {
     "name": "stdout",
     "output_type": "stream",
     "text": [
      "Saved results for Random Forest in Results_Enron/Random Forest_grad_residual_lambda=1.0_sigma=0.0_comb_len=50_ULR=0.0001.npy\n",
      "Gradient Residuals for Random Forest [DP, Finetuning, First-Order, Second Order]\n",
      "Mean residual: [14.26603624695854, 14.05905433357907, 14.047564628105894, 0.3159999967600499]\n",
      "Std residual: [10.190037747239815, 10.096768714444316, 10.011429288629937, 0.40239624512373]\n",
      "Sigmas for certification: [451.6112141700768, 445.058913895887, 444.6951912928195, 10.00341929209464]\n",
      "Retraining from scratch achieved accuracy of 0.9839857651245552\n",
      "SISA achieved accuracy of 0.9481613285883748\n",
      "Retraining model with resulting sigma from DP for 100 times ...\n"
     ]
    },
    {
     "name": "stderr",
     "output_type": "stream",
     "text": [
      "100%|██████████| 100/100 [00:24<00:00,  4.04it/s]\n"
     ]
    },
    {
     "name": "stdout",
     "output_type": "stream",
     "text": [
      "DP achieved avg accuracy of 0.5922835112692764 (min 0.4989620403321471, max 0.6938018979833926).\n",
      "Retraining model with resulting sigma from Finetuning for 100 times ...\n"
     ]
    },
    {
     "name": "stderr",
     "output_type": "stream",
     "text": [
      "100%|██████████| 100/100 [00:27<00:00,  3.66it/s]\n"
     ]
    },
    {
     "name": "stdout",
     "output_type": "stream",
     "text": [
      "Finetuning achieved avg accuracy of 0.5924080664294187 (min 0.4918446026097272, max 0.7099644128113879).\n",
      "Retraining model with resulting sigma from 1st-Order for 100 times ...\n"
     ]
    },
    {
     "name": "stderr",
     "output_type": "stream",
     "text": [
      "100%|██████████| 100/100 [00:30<00:00,  3.31it/s]\n"
     ]
    },
    {
     "name": "stdout",
     "output_type": "stream",
     "text": [
      "1st-Order achieved avg accuracy of 0.5973072360616845 (min 0.4891755634638197, max 0.7279062870699882).\n",
      "Retraining model with resulting sigma from 2nd-Order for 100 times ...\n"
     ]
    },
    {
     "name": "stderr",
     "output_type": "stream",
     "text": [
      "100%|██████████| 100/100 [01:20<00:00,  1.24it/s]\n"
     ]
    },
    {
     "name": "stdout",
     "output_type": "stream",
     "text": [
      "2nd-Order achieved avg accuracy of 0.8969231909845788 (min 0.8871589561091341, max 0.9085112692763938).\n",
      "\n",
      "Sampling 10 combinations of 100 features ...\n"
     ]
    },
    {
     "name": "stderr",
     "output_type": "stream",
     "text": [
      "100%|██████████| 10/10 [01:49<00:00, 10.94s/it]\n"
     ]
    },
    {
     "name": "stdout",
     "output_type": "stream",
     "text": [
      "Saved results for Random Forest in Results_Enron/Random Forest_grad_residual_lambda=1.0_sigma=0.0_comb_len=100_ULR=0.0001.npy\n",
      "Gradient Residuals for Random Forest [DP, Finetuning, First-Order, Second Order]\n",
      "Mean residual: [26.52191598163164, 26.18269034933822, 26.08967898448838, 0.8715911536162142]\n",
      "Std residual: [13.040641831058014, 13.007532239737857, 12.78990790325782, 0.6097548512012013]\n",
      "Sigmas for certification: [839.5881288423757, 828.8494697624715, 825.9050656768302, 27.591429906007328]\n",
      "Retraining from scratch achieved accuracy of 0.9831257413997626\n",
      "SISA achieved accuracy of 0.916429418742586\n",
      "Retraining model with resulting sigma from DP for 100 times ...\n"
     ]
    },
    {
     "name": "stderr",
     "output_type": "stream",
     "text": [
      "100%|██████████| 100/100 [00:35<00:00,  2.83it/s]\n"
     ]
    },
    {
     "name": "stdout",
     "output_type": "stream",
     "text": [
      "DP achieved avg accuracy of 0.5599925860023724 (min 0.4676749703440095, max 0.6497627520759194).\n",
      "Retraining model with resulting sigma from Finetuning for 100 times ...\n"
     ]
    },
    {
     "name": "stderr",
     "output_type": "stream",
     "text": [
      "100%|██████████| 100/100 [00:36<00:00,  2.77it/s]\n"
     ]
    },
    {
     "name": "stdout",
     "output_type": "stream",
     "text": [
      "Finetuning achieved avg accuracy of 0.5604329774614472 (min 0.447508896797153, max 0.6625148279952551).\n",
      "Retraining model with resulting sigma from 1st-Order for 100 times ...\n"
     ]
    },
    {
     "name": "stderr",
     "output_type": "stream",
     "text": [
      "100%|██████████| 100/100 [00:36<00:00,  2.77it/s]\n"
     ]
    },
    {
     "name": "stdout",
     "output_type": "stream",
     "text": [
      "1st-Order achieved avg accuracy of 0.5608837485172004 (min 0.48413404507710556, max 0.6706702253855279).\n",
      "Retraining model with resulting sigma from 2nd-Order for 100 times ...\n"
     ]
    },
    {
     "name": "stderr",
     "output_type": "stream",
     "text": [
      "100%|██████████| 100/100 [01:05<00:00,  1.54it/s]\n"
     ]
    },
    {
     "name": "stdout",
     "output_type": "stream",
     "text": [
      "2nd-Order achieved avg accuracy of 0.8360409252669038 (min 0.8183570581257414, max 0.8572064056939501).\n",
      "\n",
      "Sampling 10 combinations of 10 features ...\n"
     ]
    },
    {
     "name": "stderr",
     "output_type": "stream",
     "text": [
      "100%|██████████| 10/10 [02:52<00:00, 17.21s/it]\n"
     ]
    },
    {
     "name": "stdout",
     "output_type": "stream",
     "text": [
      "Saved results for SVM in Results_Enron/SVM_grad_residual_lambda=1.0_sigma=0.0_comb_len=10_ULR=0.0001.npy\n",
      "Gradient Residuals for SVM [DP, Finetuning, First-Order, Second Order]\n",
      "Mean residual: [4.769651625576441, 4.688866150652025, 4.708449420224253, 0.06837658569061235]\n",
      "Std residual: [5.917286681783884, 5.743576120835548, 5.82271764017647, 0.16010022131472076]\n",
      "Sigmas for certification: [150.98995435779065, 148.4325778177093, 149.0525134463475, 2.1645558969559713]\n",
      "Retraining from scratch achieved accuracy of 0.9845937129300119\n",
      "SISA achieved accuracy of 0.9623517200474495\n",
      "Retraining model with resulting sigma from DP for 100 times ...\n"
     ]
    },
    {
     "name": "stderr",
     "output_type": "stream",
     "text": [
      "100%|██████████| 100/100 [00:25<00:00,  3.93it/s]\n"
     ]
    },
    {
     "name": "stdout",
     "output_type": "stream",
     "text": [
      "DP achieved avg accuracy of 0.657491103202847 (min 0.5081553973902728, max 0.825326215895611).\n",
      "Retraining model with resulting sigma from Finetuning for 100 times ...\n"
     ]
    },
    {
     "name": "stderr",
     "output_type": "stream",
     "text": [
      "100%|██████████| 100/100 [00:26<00:00,  3.71it/s]\n"
     ]
    },
    {
     "name": "stdout",
     "output_type": "stream",
     "text": [
      "Finetuning achieved avg accuracy of 0.6665717674970344 (min 0.492141162514828, max 0.8355575326215896).\n",
      "Retraining model with resulting sigma from 1st-Order for 100 times ...\n"
     ]
    },
    {
     "name": "stderr",
     "output_type": "stream",
     "text": [
      "100%|██████████| 100/100 [00:30<00:00,  3.23it/s]\n"
     ]
    },
    {
     "name": "stdout",
     "output_type": "stream",
     "text": [
      "1st-Order achieved avg accuracy of 0.6848027876631079 (min 0.5186832740213523, max 0.8156880189798339).\n",
      "Retraining model with resulting sigma from 2nd-Order for 100 times ...\n"
     ]
    },
    {
     "name": "stderr",
     "output_type": "stream",
     "text": [
      "100%|██████████| 100/100 [01:40<00:00,  1.01s/it]\n"
     ]
    },
    {
     "name": "stdout",
     "output_type": "stream",
     "text": [
      "2nd-Order achieved avg accuracy of 0.9671367141162515 (min 0.9618920521945433, max 0.9712336892052195).\n",
      "\n",
      "Sampling 10 combinations of 50 features ...\n"
     ]
    },
    {
     "name": "stderr",
     "output_type": "stream",
     "text": [
      "100%|██████████| 10/10 [02:51<00:00, 17.13s/it]\n"
     ]
    },
    {
     "name": "stdout",
     "output_type": "stream",
     "text": [
      "Saved results for SVM in Results_Enron/SVM_grad_residual_lambda=1.0_sigma=0.0_comb_len=50_ULR=0.0001.npy\n",
      "Gradient Residuals for SVM [DP, Finetuning, First-Order, Second Order]\n",
      "Mean residual: [14.260830443766704, 14.05905433357907, 14.047564628105894, 0.3159999967600499]\n",
      "Std residual: [10.188359379758003, 10.096768714444316, 10.011429288629937, 0.40239624512373]\n",
      "Sigmas for certification: [451.4464172314249, 445.058913895887, 444.6951912928195, 10.00341929209464]\n",
      "Retraining from scratch achieved accuracy of 0.9839857651245552\n",
      "SISA achieved accuracy of 0.9481613285883748\n",
      "Retraining model with resulting sigma from DP for 100 times ...\n"
     ]
    },
    {
     "name": "stderr",
     "output_type": "stream",
     "text": [
      "100%|██████████| 100/100 [00:23<00:00,  4.30it/s]\n"
     ]
    },
    {
     "name": "stdout",
     "output_type": "stream",
     "text": [
      "DP achieved avg accuracy of 0.5922983392645313 (min 0.4989620403321471, max 0.6938018979833926).\n",
      "Retraining model with resulting sigma from Finetuning for 100 times ...\n"
     ]
    },
    {
     "name": "stderr",
     "output_type": "stream",
     "text": [
      "100%|██████████| 100/100 [00:23<00:00,  4.23it/s]\n"
     ]
    },
    {
     "name": "stdout",
     "output_type": "stream",
     "text": [
      "Finetuning achieved avg accuracy of 0.5924080664294187 (min 0.4918446026097272, max 0.7099644128113879).\n",
      "Retraining model with resulting sigma from 1st-Order for 100 times ...\n"
     ]
    },
    {
     "name": "stderr",
     "output_type": "stream",
     "text": [
      "100%|██████████| 100/100 [00:23<00:00,  4.23it/s]\n"
     ]
    },
    {
     "name": "stdout",
     "output_type": "stream",
     "text": [
      "1st-Order achieved avg accuracy of 0.5973072360616845 (min 0.4891755634638197, max 0.7279062870699882).\n",
      "Retraining model with resulting sigma from 2nd-Order for 100 times ...\n"
     ]
    },
    {
     "name": "stderr",
     "output_type": "stream",
     "text": [
      "100%|██████████| 100/100 [01:23<00:00,  1.20it/s]\n"
     ]
    },
    {
     "name": "stdout",
     "output_type": "stream",
     "text": [
      "2nd-Order achieved avg accuracy of 0.8969231909845788 (min 0.8871589561091341, max 0.9085112692763938).\n",
      "\n",
      "Sampling 10 combinations of 100 features ...\n"
     ]
    },
    {
     "name": "stderr",
     "output_type": "stream",
     "text": [
      "100%|██████████| 10/10 [02:31<00:00, 15.11s/it]\n"
     ]
    },
    {
     "name": "stdout",
     "output_type": "stream",
     "text": [
      "Saved results for SVM in Results_Enron/SVM_grad_residual_lambda=1.0_sigma=0.0_comb_len=100_ULR=0.0001.npy\n",
      "Gradient Residuals for SVM [DP, Finetuning, First-Order, Second Order]\n",
      "Mean residual: [26.51366602295591, 26.18269034933822, 26.08967898448838, 0.8715911536162142]\n",
      "Std residual: [13.040408771266867, 13.007532239737857, 12.78990790325782, 0.6097548512012013]\n",
      "Sigmas for certification: [839.326964929015, 828.8494697624715, 825.9050656768302, 27.591429906007328]\n",
      "Retraining from scratch achieved accuracy of 0.9831257413997626\n",
      "SISA achieved accuracy of 0.916429418742586\n",
      "Retraining model with resulting sigma from DP for 100 times ...\n"
     ]
    },
    {
     "name": "stderr",
     "output_type": "stream",
     "text": [
      "100%|██████████| 100/100 [00:31<00:00,  3.21it/s]\n"
     ]
    },
    {
     "name": "stdout",
     "output_type": "stream",
     "text": [
      "DP achieved avg accuracy of 0.5600029655990509 (min 0.4676749703440095, max 0.6497627520759194).\n",
      "Retraining model with resulting sigma from Finetuning for 100 times ...\n"
     ]
    },
    {
     "name": "stderr",
     "output_type": "stream",
     "text": [
      "100%|██████████| 100/100 [00:36<00:00,  2.76it/s]\n"
     ]
    },
    {
     "name": "stdout",
     "output_type": "stream",
     "text": [
      "Finetuning achieved avg accuracy of 0.5604329774614472 (min 0.447508896797153, max 0.6625148279952551).\n",
      "Retraining model with resulting sigma from 1st-Order for 100 times ...\n"
     ]
    },
    {
     "name": "stderr",
     "output_type": "stream",
     "text": [
      "100%|██████████| 100/100 [00:35<00:00,  2.78it/s]\n"
     ]
    },
    {
     "name": "stdout",
     "output_type": "stream",
     "text": [
      "1st-Order achieved avg accuracy of 0.5608837485172004 (min 0.48413404507710556, max 0.6706702253855279).\n",
      "Retraining model with resulting sigma from 2nd-Order for 100 times ...\n"
     ]
    },
    {
     "name": "stderr",
     "output_type": "stream",
     "text": [
      "100%|██████████| 100/100 [01:05<00:00,  1.52it/s]\n"
     ]
    },
    {
     "name": "stdout",
     "output_type": "stream",
     "text": [
      "2nd-Order achieved avg accuracy of 0.8360409252669038 (min 0.8183570581257414, max 0.8572064056939501).\n",
      "\n",
      "Sampling 10 combinations of 10 features ...\n"
     ]
    },
    {
     "name": "stderr",
     "output_type": "stream",
     "text": [
      "100%|██████████| 10/10 [02:08<00:00, 12.87s/it]\n"
     ]
    },
    {
     "name": "stdout",
     "output_type": "stream",
     "text": [
      "Saved results for Gradient Boosting in Results_Enron/Gradient Boosting_grad_residual_lambda=1.0_sigma=0.0_comb_len=10_ULR=0.0001.npy\n",
      "Gradient Residuals for Gradient Boosting [DP, Finetuning, First-Order, Second Order]\n",
      "Mean residual: [4.768810133706993, 4.688866150652025, 4.708449420224253, 0.06837658569061235]\n",
      "Std residual: [5.917025316895292, 5.743576120835548, 5.82271764017647, 0.16010022131472076]\n",
      "Sigmas for certification: [150.96331576257774, 148.4325778177093, 149.0525134463475, 2.1645558969559713]\n",
      "Retraining from scratch achieved accuracy of 0.9845937129300119\n",
      "SISA achieved accuracy of 0.9623517200474495\n",
      "Retraining model with resulting sigma from DP for 100 times ...\n"
     ]
    },
    {
     "name": "stderr",
     "output_type": "stream",
     "text": [
      "100%|██████████| 100/100 [00:34<00:00,  2.87it/s]\n"
     ]
    },
    {
     "name": "stdout",
     "output_type": "stream",
     "text": [
      "DP achieved avg accuracy of 0.6575074139976276 (min 0.5081553973902728, max 0.8254744958481613).\n",
      "Retraining model with resulting sigma from Finetuning for 100 times ...\n"
     ]
    },
    {
     "name": "stderr",
     "output_type": "stream",
     "text": [
      "100%|██████████| 100/100 [00:32<00:00,  3.04it/s]\n"
     ]
    },
    {
     "name": "stdout",
     "output_type": "stream",
     "text": [
      "Finetuning achieved avg accuracy of 0.6665717674970344 (min 0.492141162514828, max 0.8355575326215896).\n",
      "Retraining model with resulting sigma from 1st-Order for 100 times ...\n"
     ]
    },
    {
     "name": "stderr",
     "output_type": "stream",
     "text": [
      "100%|██████████| 100/100 [00:33<00:00,  2.99it/s]\n"
     ]
    },
    {
     "name": "stdout",
     "output_type": "stream",
     "text": [
      "1st-Order achieved avg accuracy of 0.6848027876631079 (min 0.5186832740213523, max 0.8156880189798339).\n",
      "Retraining model with resulting sigma from 2nd-Order for 100 times ...\n"
     ]
    },
    {
     "name": "stderr",
     "output_type": "stream",
     "text": [
      "100%|██████████| 100/100 [01:24<00:00,  1.18it/s]\n"
     ]
    },
    {
     "name": "stdout",
     "output_type": "stream",
     "text": [
      "2nd-Order achieved avg accuracy of 0.9671367141162515 (min 0.9618920521945433, max 0.9712336892052195).\n",
      "\n",
      "Sampling 10 combinations of 50 features ...\n"
     ]
    },
    {
     "name": "stderr",
     "output_type": "stream",
     "text": [
      "100%|██████████| 10/10 [03:03<00:00, 18.36s/it]\n"
     ]
    },
    {
     "name": "stdout",
     "output_type": "stream",
     "text": [
      "Saved results for Gradient Boosting in Results_Enron/Gradient Boosting_grad_residual_lambda=1.0_sigma=0.0_comb_len=50_ULR=0.0001.npy\n",
      "Gradient Residuals for Gradient Boosting [DP, Finetuning, First-Order, Second Order]\n",
      "Mean residual: [14.259947734986858, 14.05905433357907, 14.047564628105894, 0.3159999967600499]\n",
      "Std residual: [10.1881714840046, 10.096768714444316, 10.011429288629937, 0.40239624512373]\n",
      "Sigmas for certification: [451.4184738576016, 445.058913895887, 444.6951912928195, 10.00341929209464]\n",
      "Retraining from scratch achieved accuracy of 0.9839857651245552\n",
      "SISA achieved accuracy of 0.9481613285883748\n",
      "Retraining model with resulting sigma from DP for 100 times ...\n"
     ]
    },
    {
     "name": "stderr",
     "output_type": "stream",
     "text": [
      "100%|██████████| 100/100 [00:25<00:00,  3.95it/s]\n"
     ]
    },
    {
     "name": "stdout",
     "output_type": "stream",
     "text": [
      "DP achieved avg accuracy of 0.5922998220640568 (min 0.4989620403321471, max 0.6938018979833926).\n",
      "Retraining model with resulting sigma from Finetuning for 100 times ...\n"
     ]
    },
    {
     "name": "stderr",
     "output_type": "stream",
     "text": [
      "100%|██████████| 100/100 [00:28<00:00,  3.51it/s]\n"
     ]
    },
    {
     "name": "stdout",
     "output_type": "stream",
     "text": [
      "Finetuning achieved avg accuracy of 0.5924080664294187 (min 0.4918446026097272, max 0.7099644128113879).\n",
      "Retraining model with resulting sigma from 1st-Order for 100 times ...\n"
     ]
    },
    {
     "name": "stderr",
     "output_type": "stream",
     "text": [
      "100%|██████████| 100/100 [00:31<00:00,  3.17it/s]\n"
     ]
    },
    {
     "name": "stdout",
     "output_type": "stream",
     "text": [
      "1st-Order achieved avg accuracy of 0.5973072360616845 (min 0.4891755634638197, max 0.7279062870699882).\n",
      "Retraining model with resulting sigma from 2nd-Order for 100 times ...\n"
     ]
    },
    {
     "name": "stderr",
     "output_type": "stream",
     "text": [
      "100%|██████████| 100/100 [01:20<00:00,  1.24it/s]\n"
     ]
    },
    {
     "name": "stdout",
     "output_type": "stream",
     "text": [
      "2nd-Order achieved avg accuracy of 0.8969231909845788 (min 0.8871589561091341, max 0.9085112692763938).\n",
      "\n",
      "Sampling 10 combinations of 100 features ...\n"
     ]
    },
    {
     "name": "stderr",
     "output_type": "stream",
     "text": [
      "100%|██████████| 10/10 [02:47<00:00, 16.80s/it]\n"
     ]
    },
    {
     "name": "stdout",
     "output_type": "stream",
     "text": [
      "Saved results for Gradient Boosting in Results_Enron/Gradient Boosting_grad_residual_lambda=1.0_sigma=0.0_comb_len=100_ULR=0.0001.npy\n",
      "Gradient Residuals for Gradient Boosting [DP, Finetuning, First-Order, Second Order]\n",
      "Mean residual: [26.512437810827965, 26.18269034933822, 26.08967898448838, 0.8715911536162142]\n",
      "Std residual: [13.040300696571752, 13.007532239737857, 12.78990790325782, 0.6097548512012013]\n",
      "Sigmas for certification: [839.2880841662891, 828.8494697624715, 825.9050656768302, 27.591429906007328]\n",
      "Retraining from scratch achieved accuracy of 0.9831257413997626\n",
      "SISA achieved accuracy of 0.916429418742586\n",
      "Retraining model with resulting sigma from DP for 100 times ...\n"
     ]
    },
    {
     "name": "stderr",
     "output_type": "stream",
     "text": [
      "100%|██████████| 100/100 [00:26<00:00,  3.72it/s]\n"
     ]
    },
    {
     "name": "stdout",
     "output_type": "stream",
     "text": [
      "DP achieved avg accuracy of 0.5600118623962039 (min 0.4676749703440095, max 0.6497627520759194).\n",
      "Retraining model with resulting sigma from Finetuning for 100 times ...\n"
     ]
    },
    {
     "name": "stderr",
     "output_type": "stream",
     "text": [
      "100%|██████████| 100/100 [00:26<00:00,  3.72it/s]\n"
     ]
    },
    {
     "name": "stdout",
     "output_type": "stream",
     "text": [
      "Finetuning achieved avg accuracy of 0.5604329774614472 (min 0.447508896797153, max 0.6625148279952551).\n",
      "Retraining model with resulting sigma from 1st-Order for 100 times ...\n"
     ]
    },
    {
     "name": "stderr",
     "output_type": "stream",
     "text": [
      "100%|██████████| 100/100 [00:28<00:00,  3.52it/s]\n"
     ]
    },
    {
     "name": "stdout",
     "output_type": "stream",
     "text": [
      "1st-Order achieved avg accuracy of 0.5608837485172004 (min 0.48413404507710556, max 0.6706702253855279).\n",
      "Retraining model with resulting sigma from 2nd-Order for 100 times ...\n"
     ]
    },
    {
     "name": "stderr",
     "output_type": "stream",
     "text": [
      "100%|██████████| 100/100 [01:11<00:00,  1.41it/s]"
     ]
    },
    {
     "name": "stdout",
     "output_type": "stream",
     "text": [
      "2nd-Order achieved avg accuracy of 0.8360409252669038 (min 0.8183570581257414, max 0.8572064056939501).\n"
     ]
    },
    {
     "name": "stderr",
     "output_type": "stream",
     "text": [
      "\n"
     ]
    }
   ],
   "source": [
    "get_average_gradient_residual(train_data, test_data, voc, lambda_, sigma, indices_to_delete,\n",
    "                            combination_lengths, n_combinations, unlearning_rate, unlearning_rate_ft,\n",
    "                            iter_steps, category_to_idx_dict, remove=remove, save_path=res_save_folder)"
   ]
  },
  {
   "cell_type": "markdown",
   "id": "db5ad180",
   "metadata": {},
   "source": [
    "### Results\n",
    "\n",
    "We see that the gradient residual of the second order is by far the smallest and the gradient residual is always increasing when we increase the number of features to be deleted. In terms of accuracy, the second order update remains close to retraining when the number of features removed is not too high."
   ]
  },
  {
   "cell_type": "markdown",
   "id": "566db0a2",
   "metadata": {},
   "source": [
    "### Fidelity Evaluation\n",
    "\n",
    "How do the unlearning strategies impact the classifier? We give an example of a scatter plot used in the paper to measure the difference between unlearning and retraining (here sigma=0) using the difference in test loss to get a better understanding of the fidelity each method yields."
   ]
  },
  {
   "cell_type": "code",
   "execution_count": 12,
   "id": "3e95650a",
   "metadata": {},
   "outputs": [
    {
     "name": "stdout",
     "output_type": "stream",
     "text": [
      "url::http://schemas.android.com/apk/res/,url::r.admob.com,url::http://r.admob.com/ad_source.php,url::http://mm.admob.com/static/android/canvas.html,url::http://mm.admob.com/static/android/i18n/20100820,url::http://api.admob.com/v1/pubcode/android_sdk_emulator_notice,url::http://a.admob.com/f0?,url::mm.admob.com,url::api.admob.com,url::a.admob.com\n"
     ]
    },
    {
     "name": "stderr",
     "output_type": "stream",
     "text": [
      "100%|██████████| 30/30 [01:18<00:00,  2.62s/it]"
     ]
    },
    {
     "name": "stdout",
     "output_type": "stream",
     "text": [
      "Saved results at ./scatter_losses-combinations-20-lambda-1.0-sigma-0.0-top-140.npy\n"
     ]
    },
    {
     "name": "stderr",
     "output_type": "stream",
     "text": [
      "\n"
     ]
    },
    {
     "data": {
      "image/png": "[encoded data removed]",
      "text/plain": [
       "<Figure size 640x480 with 1 Axes>"
      ]
     },
     "metadata": {},
     "output_type": "display_data"
    }
   ],
   "source": [
    "from Applications.FeatureUnlearning.LRExperiments import scatter_experiments\n",
    "from Applications.FeatureUnlearning.LRExperiments import find_most_relevant_indices\n",
    "\n",
    "dataset_name = 'Drebin'  # we use the malware dataset as an example\n",
    "normalize = True  # we normalize the datapoints to have euclidean norm of 1\n",
    "# load the training and test data\n",
    "loader = DataLoader(dataset_name, normalize)\n",
    "train_data, test_data, voc = (loader.x_train, loader.y_train), (loader.x_test, loader.y_test), loader.voc\n",
    "category_to_idx_dict = loader.category_to_idx_dict\n",
    "# create folders for results\n",
    "res_save_folder = 'Results_{}'.format(dataset_name)\n",
    "model_save_folder = 'Models_{}'.format(dataset_name)\n",
    "if not os.path.isdir(res_save_folder):\n",
    "    os.makedirs(res_save_folder)\n",
    "# relevant features contain the privacy sensitive features of the dataset, (names in the case of Enron)\n",
    "relevant_features = loader.relevant_features\n",
    "relevant_indices = [voc[f] for f in relevant_features]\n",
    "# lets see some names that were found in the dataset\n",
    "print(','.join(relevant_features[:10]))\n",
    "#\n",
    "combination_length = 20\n",
    "most_important_size = 300\n",
    "n_combinations = 30\n",
    "unlearning_rate = 0.001 # First Order update unlearning rate\n",
    "unlearning_rate_ft = 0.0001 # learning rate for fine-tuning\n",
    "# here, we mix in important features such that the effect is stronger\n",
    "top_indices, _ = find_most_relevant_indices(train_data, test_data, voc, top_n=most_important_size)\n",
    "indices_to_delete = np.intersect1d(top_indices, relevant_indices)\n",
    "\n",
    "scatter_experiments(train_data, test_data, voc, lambda_, sigma, indices_to_delete, combination_length,\n",
    "                   unlearning_rate, unlearning_rate_ft, n_combinations, category_to_idx_dict,\n",
    "                   remove)"
   ]
  },
  {
   "cell_type": "markdown",
   "id": "20d02740",
   "metadata": {},
   "source": [
    "### Results\n",
    "\n",
    "The identiy line is optimal in this plot, i.e. the second order update gives again the best results. Although the difference seems small, recall that the loss is a very sensitive metric to measure differences."
   ]
  },
  {
   "cell_type": "code",
   "execution_count": 6,
   "id": "2a0a1689",
   "metadata": {},
   "outputs": [
    {
     "data": {
      "text/plain": [
       "array([0, 2, 3])"
      ]
     },
     "execution_count": 6,
     "metadata": {},
     "output_type": "execute_result"
    }
   ],
   "source": [
    "# vecteur a + b\n",
    "a = np.array([0,2,-3])\n",
    "\n",
    "np.abs(a)"
   ]
  },
  {
   "cell_type": "code",
   "execution_count": 7,
   "id": "0ded6188",
   "metadata": {},
   "outputs": [
    {
     "data": {
      "text/plain": [
       "2"
      ]
     },
     "execution_count": 7,
     "metadata": {},
     "output_type": "execute_result"
    }
   ],
   "source": [
    "max(a)"
   ]
  },
  {
   "cell_type": "code",
   "execution_count": null,
   "id": "81a1789d",
   "metadata": {},
   "outputs": [],
   "source": []
  }
 ],
 "metadata": {
  "kernelspec": {
   "display_name": "ML_ENV",
   "language": "python",
   "name": "python3"
  },
  "language_info": {
   "codemirror_mode": {
    "name": "ipython",
    "version": 3
   },
   "file_extension": ".py",
   "mimetype": "text/x-python",
   "name": "python",
   "nbconvert_exporter": "python",
   "pygments_lexer": "ipython3",
   "version": "3.7.7"
  }
 },
 "nbformat": 4,
 "nbformat_minor": 5
}
