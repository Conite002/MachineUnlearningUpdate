{
 "cells": [
  {
   "cell_type": "code",
   "execution_count": 1,
   "id": "6f089a7d",
   "metadata": {},
   "outputs": [],
   "source": [
    "import sys\n",
    "import os\n",
    "\n",
    "sys.path.append('../')"
   ]
  },
  {
   "cell_type": "code",
   "execution_count": 2,
   "id": "a163f523",
   "metadata": {},
   "outputs": [
    {
     "name": "stderr",
     "output_type": "stream",
     "text": [
      "2023-03-16 12:29:56.379279: W tensorflow/stream_executor/platform/default/dso_loader.cc:64] Could not load dynamic library 'libcudart.so.11.0'; dlerror: libcudart.so.11.0: cannot open shared object file: No such file or directory\n",
      "2023-03-16 12:29:56.379297: I tensorflow/stream_executor/cuda/cudart_stub.cc:29] Ignore above cudart dlerror if you do not have a GPU set up on your machine.\n"
     ]
    }
   ],
   "source": [
    "from Unlearner.DPLRUnlearner import DPLRUnlearner\n",
    "from Applications.FeatureUnlearning.LinearEnsembleExperiments import split_train_data, create_models\n",
    "from Applications.FeatureUnlearning.DataLoader import DataLoader\n",
    "import numpy as np\n",
    "from tqdm import tqdm\n",
    "import matplotlib.pyplot as plt\n",
    "import warnings\n",
    "warnings.filterwarnings(\"ignore\")"
   ]
  },
  {
   "cell_type": "markdown",
   "id": "e9139488",
   "metadata": {},
   "source": [
    "### Certified Unlearning\n",
    "\n",
    "We firstly show some examples on the linear classifier with certification guarantees. Firstly, how large is the gradient residual for different unlearning algorithms and what accuracy does a classifier achieve that has noise that corresponds to this gradient residual?"
   ]
  },
  {
   "cell_type": "code",
   "execution_count": 4,
   "id": "f9ff5770",
   "metadata": {},
   "outputs": [
    {
     "name": "stdout",
     "output_type": "stream",
     "text": [
      "adams,afford,alan,allen,anderson,anthony,arnold,arthur,austin,barry\n"
     ]
    }
   ],
   "source": [
    "dataset_name = 'Enron'  # we use the spam dataset as an example\n",
    "normalize = True  # we normalize the datapoints to have euclidean norm of 1\n",
    "# load the training and test data\n",
    "loader = DataLoader(dataset_name, normalize)\n",
    "train_data, test_data, voc = (loader.x_train, loader.y_train), (loader.x_test, loader.y_test), loader.voc\n",
    "category_to_idx_dict = loader.category_to_idx_dict\n",
    "# create folders for results\n",
    "res_save_folder = 'Results_{}'.format(dataset_name)\n",
    "model_save_folder = 'Models_{}'.format(dataset_name)\n",
    "if not os.path.isdir(res_save_folder):\n",
    "    os.makedirs(res_save_folder)\n",
    "# relevant features contain the privacy sensitive features of the dataset, (names in the case of Enron)\n",
    "relevant_features = loader.relevant_features\n",
    "relevant_indices = [voc[f] for f in relevant_features]\n",
    "# lets see some names that were found in the dataset\n",
    "print(','.join(relevant_features[:10]))\n",
    "# these features will be deleted\n",
    "indices_to_delete = relevant_indices"
   ]
  },
  {
   "cell_type": "code",
   "execution_count": 6,
   "id": "bbbf626f",
   "metadata": {},
   "outputs": [],
   "source": [
    "from Applications.FeatureUnlearning.LRExperiments import get_average_gradient_residual\n",
    "\n",
    "# What is the gradient residual and which accuracy do we achieve when we set epsilon=0.1 and want to certify the unlearning?\n",
    "\n",
    "lambda_ = 1.0  # regularization strength\n",
    "sigma = 0.0  # noise to compute gradient residual\n",
    "combination_lengths = [10,50,100] # we remove 10,50,100 names\n",
    "n_combinations = 10 # we sample 10 combinations of [10,50,100] features to remove\n",
    "unlearning_rate = 0.0001 # First Order update unlearning rate\n",
    "unlearning_rate_ft = unlearning_rate # learning rate for fine-tuning\n",
    "iter_steps = 10 # for comparison, we also split up the removal into 10 single steps\n",
    "remove = True # we really remove the features from the dataset"
   ]
  },
  {
   "cell_type": "code",
   "execution_count": 26,
   "id": "f53bc82a",
   "metadata": {},
   "outputs": [
    {
     "name": "stdout",
     "output_type": "stream",
     "text": [
      "\n",
      "Sampling 40 combinations of 10 features ...\n"
     ]
    },
    {
     "name": "stderr",
     "output_type": "stream",
     "text": [
      "100%|███████████████████████████████████████████████████████████████████████████████████| 40/40 [02:22<00:00,  3.57s/it]\n"
     ]
    },
    {
     "name": "stdout",
     "output_type": "stream",
     "text": [
      "Saved results in Results_Drebin/grad_residual_lambda=1.0_sigma=0.0_comb_len=10_ULR=0.001\n",
      "Gradient Residuals for methods [DP, Finetuning, First-Order, Second Order]\n",
      "Mean residual: [7.59811534357012, 10.204745336993572, 6.009818847487509, 0.23244421573377191]\n",
      "Std residual: [5.454317799524432, 6.060089744484221, 3.8513810122577548, 0.2918955921326014]\n",
      "Sigmas for certification: [240.52890629978253, 323.04540323305474, 190.24917220679853, 7.358344860277508]\n",
      "Retraining from scratch achieved accuracy of 0.9772090188909202\n",
      "SISA achieved accuracy of 0.955799309364209\n",
      "Retraining model with resulting sigma from DP for 100 times ...\n"
     ]
    },
    {
     "name": "stderr",
     "output_type": "stream",
     "text": [
      "100%|█████████████████████████████████████████████████████████████████████████████████| 100/100 [00:17<00:00,  5.71it/s]\n"
     ]
    },
    {
     "name": "stdout",
     "output_type": "stream",
     "text": [
      "DP achieved avg accuracy of 0.9528651228925454 (min 0.9525695713995531, max 0.9528742636603696).\n",
      "DP achieved avg macro f1 score of 0.48793186548553025.\n",
      "DP achieved weighted f1 score of 0.9298754340819104.\n",
      "Retraining model with resulting sigma from Finetuning for 100 times ...\n"
     ]
    },
    {
     "name": "stderr",
     "output_type": "stream",
     "text": [
      "100%|█████████████████████████████████████████████████████████████████████████████████| 100/100 [00:17<00:00,  5.76it/s]\n"
     ]
    },
    {
     "name": "stdout",
     "output_type": "stream",
     "text": [
      "Finetuning achieved avg accuracy of 0.9528336380255945 (min 0.9506398537477148, max 0.9529758277473086).\n",
      "Finetuning achieved avg macro f1 score of 0.48854248561527497.\n",
      "Finetuning achieved weighted f1 score of 0.929917205373308.\n",
      "Retraining model with resulting sigma from 1st-Order for 100 times ...\n"
     ]
    },
    {
     "name": "stderr",
     "output_type": "stream",
     "text": [
      "100%|█████████████████████████████████████████████████████████████████████████████████| 100/100 [00:17<00:00,  5.70it/s]\n"
     ]
    },
    {
     "name": "stdout",
     "output_type": "stream",
     "text": [
      "1st-Order achieved avg accuracy of 0.952866138533415 (min 0.9525695713995531, max 0.9528742636603696).\n",
      "1st-Order achieved avg macro f1 score of 0.48793213181191364.\n",
      "1st-Order achieved weighted f1 score of 0.9298759416330233.\n",
      "Retraining model with resulting sigma from 2nd-Order for 100 times ...\n"
     ]
    },
    {
     "name": "stderr",
     "output_type": "stream",
     "text": [
      "100%|█████████████████████████████████████████████████████████████████████████████████| 100/100 [01:14<00:00,  1.33it/s]\n"
     ]
    },
    {
     "name": "stdout",
     "output_type": "stream",
     "text": [
      "2nd-Order achieved avg accuracy of 0.9652630509851717 (min 0.959882185659151, max 0.969124517570587).\n",
      "2nd-Order achieved avg macro f1 score of 0.787163634217637.\n",
      "2nd-Order achieved weighted f1 score of 0.9635077536773053.\n"
     ]
    },
    {
     "data": {
      "image/png": "[encoded data removed]",
      "text/plain": [
       "<Figure size 864x432 with 1 Axes>"
      ]
     },
     "metadata": {
      "needs_background": "light"
     },
     "output_type": "display_data"
    },
    {
     "name": "stdout",
     "output_type": "stream",
     "text": [
      "\n",
      "Sampling 40 combinations of 50 features ...\n"
     ]
    },
    {
     "name": "stderr",
     "output_type": "stream",
     "text": [
      "100%|███████████████████████████████████████████████████████████████████████████████████| 40/40 [02:38<00:00,  3.96s/it]\n"
     ]
    },
    {
     "name": "stdout",
     "output_type": "stream",
     "text": [
      "Saved results in Results_Drebin/grad_residual_lambda=1.0_sigma=0.0_comb_len=50_ULR=0.001\n",
      "Gradient Residuals for methods [DP, Finetuning, First-Order, Second Order]\n",
      "Mean residual: [28.309797472662403, 31.787544367738036, 21.395973435628143, 2.2421013520742425]\n",
      "Std residual: [14.668785538644187, 15.256050334560696, 9.607292557575665, 1.4741401258816387]\n",
      "Sigmas for certification: [896.1860034712693, 1006.2789172051848, 677.3192899797078, 70.97683591814037]\n",
      "Retraining from scratch achieved accuracy of 0.9771201503148486\n",
      "SISA achieved accuracy of 0.9531434084907577\n",
      "Retraining model with resulting sigma from DP for 100 times ...\n"
     ]
    },
    {
     "name": "stderr",
     "output_type": "stream",
     "text": [
      "100%|█████████████████████████████████████████████████████████████████████████████████| 100/100 [00:18<00:00,  5.28it/s]\n"
     ]
    },
    {
     "name": "stdout",
     "output_type": "stream",
     "text": [
      "DP achieved avg accuracy of 0.9527635588056066 (min 0.9516554946171034, max 0.9528742636603696).\n",
      "DP achieved avg macro f1 score of 0.48803128838379045.\n",
      "DP achieved weighted f1 score of 0.9298364062286999.\n",
      "Retraining model with resulting sigma from Finetuning for 100 times ...\n"
     ]
    },
    {
     "name": "stderr",
     "output_type": "stream",
     "text": [
      "100%|█████████████████████████████████████████████████████████████████████████████████| 100/100 [00:19<00:00,  5.09it/s]\n"
     ]
    },
    {
     "name": "stdout",
     "output_type": "stream",
     "text": [
      "Finetuning achieved avg accuracy of 0.9527158236847454 (min 0.9499289051391429, max 0.9529758277473086).\n",
      "Finetuning achieved avg macro f1 score of 0.4884114760710992.\n",
      "Finetuning achieved weighted f1 score of 0.9298490254752093.\n",
      "Retraining model with resulting sigma from 1st-Order for 100 times ...\n"
     ]
    },
    {
     "name": "stderr",
     "output_type": "stream",
     "text": [
      "100%|█████████████████████████████████████████████████████████████████████████████████| 100/100 [00:19<00:00,  5.03it/s]\n"
     ]
    },
    {
     "name": "stdout",
     "output_type": "stream",
     "text": [
      "1st-Order achieved avg accuracy of 0.9527036359943126 (min 0.9504367255738371, max 0.9528742636603696).\n",
      "1st-Order achieved avg macro f1 score of 0.48791054297478725.\n",
      "1st-Order achieved weighted f1 score of 0.9297966619583655.\n",
      "Retraining model with resulting sigma from 2nd-Order for 100 times ...\n"
     ]
    },
    {
     "name": "stderr",
     "output_type": "stream",
     "text": [
      "100%|█████████████████████████████████████████████████████████████████████████████████| 100/100 [00:45<00:00,  2.18it/s]"
     ]
    },
    {
     "name": "stdout",
     "output_type": "stream",
     "text": [
      "2nd-Order achieved avg accuracy of 0.9282480195003048 (min 0.914686166971359, max 0.9420069063579118).\n",
      "2nd-Order achieved avg macro f1 score of 0.6223629993534842.\n",
      "2nd-Order achieved weighted f1 score of 0.9301993974424113.\n"
     ]
    },
    {
     "name": "stderr",
     "output_type": "stream",
     "text": [
      "\n"
     ]
    },
    {
     "data": {
      "image/png": "[encoded data removed]",
      "text/plain": [
       "<Figure size 864x432 with 1 Axes>"
      ]
     },
     "metadata": {
      "needs_background": "light"
     },
     "output_type": "display_data"
    },
    {
     "name": "stdout",
     "output_type": "stream",
     "text": [
      "\n",
      "Sampling 40 combinations of 100 features ...\n"
     ]
    },
    {
     "name": "stderr",
     "output_type": "stream",
     "text": [
      "100%|███████████████████████████████████████████████████████████████████████████████████| 40/40 [02:52<00:00,  4.32s/it]\n"
     ]
    },
    {
     "name": "stdout",
     "output_type": "stream",
     "text": [
      "Saved results in Results_Drebin/grad_residual_lambda=1.0_sigma=0.0_comb_len=100_ULR=0.001\n",
      "Gradient Residuals for methods [DP, Finetuning, First-Order, Second Order]\n",
      "Mean residual: [52.97561040978083, 57.06109104978741, 38.470448937517766, 5.993458808021131]\n",
      "Std residual: [18.000199607140864, 18.193391593463396, 11.342061512428666, 2.3065005888449552]\n",
      "Sigmas for certification: [1677.0166095479153, 1806.3481800249685, 1217.8355538697258, 189.7312724090284]\n",
      "Retraining from scratch achieved accuracy of 0.9770998374974609\n",
      "SISA achieved accuracy of 0.9530062969733901\n",
      "Retraining model with resulting sigma from DP for 100 times ...\n"
     ]
    },
    {
     "name": "stderr",
     "output_type": "stream",
     "text": [
      "100%|█████████████████████████████████████████████████████████████████████████████████| 100/100 [00:21<00:00,  4.73it/s]\n"
     ]
    },
    {
     "name": "stdout",
     "output_type": "stream",
     "text": [
      "DP achieved avg accuracy of 0.9500345317895592 (min 0.8612634572415194, max 0.9528742636603696).\n",
      "DP achieved avg macro f1 score of 0.48934209672984236.\n",
      "DP achieved weighted f1 score of 0.9286195414781565.\n",
      "Retraining model with resulting sigma from Finetuning for 100 times ...\n"
     ]
    },
    {
     "name": "stderr",
     "output_type": "stream",
     "text": [
      "100%|█████████████████████████████████████████████████████████████████████████████████| 100/100 [00:21<00:00,  4.69it/s]\n"
     ]
    },
    {
     "name": "stdout",
     "output_type": "stream",
     "text": [
      "Finetuning achieved avg accuracy of 0.9492128783262241 (min 0.8521226894170222, max 0.9530773918342474).\n",
      "Finetuning achieved avg macro f1 score of 0.4921852737489871.\n",
      "Finetuning achieved weighted f1 score of 0.9284953559840341.\n",
      "Retraining model with resulting sigma from 1st-Order for 100 times ...\n"
     ]
    },
    {
     "name": "stderr",
     "output_type": "stream",
     "text": [
      "100%|█████████████████████████████████████████████████████████████████████████████████| 100/100 [00:20<00:00,  4.90it/s]\n"
     ]
    },
    {
     "name": "stdout",
     "output_type": "stream",
     "text": [
      "1st-Order achieved avg accuracy of 0.9523451147674183 (min 0.9446475726183221, max 0.9528742636603696).\n",
      "1st-Order achieved avg macro f1 score of 0.4892351947881712.\n",
      "1st-Order achieved weighted f1 score of 0.9297489555768164.\n",
      "Retraining model with resulting sigma from 2nd-Order for 100 times ...\n"
     ]
    },
    {
     "name": "stderr",
     "output_type": "stream",
     "text": [
      "100%|█████████████████████████████████████████████████████████████████████████████████| 100/100 [00:17<00:00,  5.81it/s]\n"
     ]
    },
    {
     "name": "stdout",
     "output_type": "stream",
     "text": [
      "2nd-Order achieved avg accuracy of 0.9528712167377619 (min 0.9527726995734308, max 0.9528742636603696).\n",
      "2nd-Order achieved avg macro f1 score of 0.4879334635546545.\n",
      "2nd-Order achieved weighted f1 score of 0.9298784795997905.\n"
     ]
    },
    {
     "data": {
      "image/png": "[encoded data removed]",
      "text/plain": [
       "<Figure size 864x432 with 1 Axes>"
      ]
     },
     "metadata": {
      "needs_background": "light"
     },
     "output_type": "display_data"
    }
   ],
   "source": [
    "get_average_gradient_residual(train_data, test_data, voc, lambda_, sigma, indices_to_delete,\n",
    "                            combination_lengths, n_combinations, unlearning_rate, unlearning_rate_ft,\n",
    "                            iter_steps, category_to_idx_dict, remove=remove, save_path=res_save_folder)"
   ]
  },
  {
   "cell_type": "markdown",
   "id": "3067bc01",
   "metadata": {},
   "source": [
    "### Results\n",
    "\n",
    "We see that the gradient residual of the second order is by far the smallest and the gradient residual is always increasing when we increase the number of features to be deleted. In terms of accuracy, the second order update remains close to retraining when the number of features removed is not too high."
   ]
  },
  {
   "cell_type": "markdown",
   "id": "f50f262a",
   "metadata": {},
   "source": [
    "### Fidelity Evaluation\n",
    "\n",
    "How do the unlearning strategies impact the classifier? We give an example of a scatter plot used in the paper to measure the difference between unlearning and retraining (here sigma=0) using the difference in test loss to get a better understanding of the fidelity each method yields."
   ]
  },
  {
   "cell_type": "code",
   "execution_count": 7,
   "id": "f893abbb",
   "metadata": {},
   "outputs": [
    {
     "name": "stdout",
     "output_type": "stream",
     "text": [
      "url::http://schemas.android.com/apk/res/,url::r.admob.com,url::http://r.admob.com/ad_source.php,url::http://mm.admob.com/static/android/canvas.html,url::http://mm.admob.com/static/android/i18n/20100820,url::http://api.admob.com/v1/pubcode/android_sdk_emulator_notice,url::http://a.admob.com/f0?,url::mm.admob.com,url::api.admob.com,url::a.admob.com\n"
     ]
    },
    {
     "name": "stderr",
     "output_type": "stream",
     "text": [
      "100%|███████████████████████████████████████████████████████████████████████████████████| 30/30 [00:57<00:00,  1.91s/it]"
     ]
    },
    {
     "name": "stdout",
     "output_type": "stream",
     "text": [
      "Saved results at ./scatter_losses-combinations-20-lambda-1.0-sigma-0.0-top-140.npy\n"
     ]
    },
    {
     "name": "stderr",
     "output_type": "stream",
     "text": [
      "\n"
     ]
    },
    {
     "data": {
      "image/png": "[encoded data removed]",
      "text/plain": [
       "<Figure size 432x288 with 1 Axes>"
      ]
     },
     "metadata": {
      "needs_background": "light"
     },
     "output_type": "display_data"
    }
   ],
   "source": [
    "from Applications.FeatureUnlearning.LRExperiments import scatter_experiments\n",
    "from Applications.FeatureUnlearning.LRExperiments import find_most_relevant_indices\n",
    "\n",
    "dataset_name = 'Drebin'  # we use the malware dataset as an example\n",
    "normalize = True  # we normalize the datapoints to have euclidean norm of 1\n",
    "# load the training and test data\n",
    "loader = DataLoader(dataset_name, normalize)\n",
    "train_data, test_data, voc = (loader.x_train, loader.y_train), (loader.x_test, loader.y_test), loader.voc\n",
    "category_to_idx_dict = loader.category_to_idx_dict\n",
    "# create folders for results\n",
    "res_save_folder = 'Results_{}'.format(dataset_name)\n",
    "model_save_folder = 'Models_{}'.format(dataset_name)\n",
    "if not os.path.isdir(res_save_folder):\n",
    "    os.makedirs(res_save_folder)\n",
    "# relevant features contain the privacy sensitive features of the dataset, (names in the case of Enron)\n",
    "relevant_features = loader.relevant_features\n",
    "relevant_indices = [voc[f] for f in relevant_features]\n",
    "# lets see some names that were found in the dataset\n",
    "print(','.join(relevant_features[:10]))\n",
    "#\n",
    "combination_length = 20\n",
    "most_important_size = 300\n",
    "n_combinations = 30\n",
    "unlearning_rate = 0.001 # First Order update unlearning rate\n",
    "unlearning_rate_ft = 0.0001 # learning rate for fine-tuning\n",
    "# here, we mix in important features such that the effect is stronger\n",
    "top_indices, _ = find_most_relevant_indices(train_data, test_data, voc, top_n=most_important_size)\n",
    "indices_to_delete = np.intersect1d(top_indices, relevant_indices)\n",
    "\n",
    "scatter_experiments(train_data, test_data, voc, lambda_, sigma, indices_to_delete, combination_length,\n",
    "                   unlearning_rate, unlearning_rate_ft, n_combinations, category_to_idx_dict,\n",
    "                   remove)"
   ]
  },
  {
   "cell_type": "markdown",
   "id": "8515c301",
   "metadata": {},
   "source": [
    "### Results\n",
    "\n",
    "The identiy line is optimal in this plot, i.e. the second order update gives again the best results. Although the difference seems small, recall that the loss is a very sensitive metric to measure differences."
   ]
  },
  {
   "cell_type": "code",
   "execution_count": null,
   "id": "2391bcd5",
   "metadata": {},
   "outputs": [],
   "source": []
  }
 ],
 "metadata": {
  "kernelspec": {
   "display_name": "Python 3 (ipykernel)",
   "language": "python",
   "name": "python3"
  },
  "language_info": {
   "codemirror_mode": {
    "name": "ipython",
    "version": 3
   },
   "file_extension": ".py",
   "mimetype": "text/x-python",
   "name": "python",
   "nbconvert_exporter": "python",
   "pygments_lexer": "ipython3",
   "version": "3.10.6"
  }
 },
 "nbformat": 4,
 "nbformat_minor": 5
}
