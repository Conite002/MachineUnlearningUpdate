{
 "cells": [
  {
   "cell_type": "code",
   "execution_count": 4,
   "metadata": {},
   "outputs": [],
   "source": [
    "import sys\n",
    "sys.path.append('../')"
   ]
  },
  {
   "cell_type": "code",
   "execution_count": 5,
   "metadata": {},
   "outputs": [
    {
     "name": "stdout",
     "output_type": "stream",
     "text": [
      "Processed and saved cifar10 dataset\n",
      "Processed and saved mnist dataset\n",
      "Processed and saved cifar100 dataset\n",
      "Processed and saved fashion_mnist dataset\n",
      "Processed and saved svhn_cropped dataset\n"
     ]
    }
   ],
   "source": [
    "import numpy as np\n",
    "import tensorflow_datasets as tfds\n",
    "from tensorflow.keras.utils import to_categorical\n",
    "from sklearn.model_selection import train_test_split\n",
    "from pathlib import Path\n",
    "from conf import BASE_DIR\n",
    "\n",
    "NUM_CLASSES_10 = 10\n",
    "NUM_CLASSES_100 = 100\n",
    "NUM_CLASSES_43 = 43\n",
    "DATASETS = {\n",
    "    'cifar10': (NUM_CLASSES_10, BASE_DIR / 'train_test_data' / 'Cifar'),\n",
    "    'mnist': (NUM_CLASSES_10, BASE_DIR / 'train_test_data' / 'Mnist'),\n",
    "    'cifar100': (NUM_CLASSES_100, BASE_DIR / 'train_test_data' / 'Cifar100'),\n",
    "    'fashion_mnist': (NUM_CLASSES_10, BASE_DIR / 'train_test_data' / 'FashionMnist'), \n",
    "    'svhn_cropped': (NUM_CLASSES_10, BASE_DIR / 'train_test_data' / 'SVHN'),\n",
    "}\n",
    "\n",
    "def process_and_save_dataset(dataset_name, num_classes, data_dir, fraction=0.5):\n",
    "    data_dir = Path(data_dir)\n",
    "    data_dir.mkdir(parents=True, exist_ok=True)\n",
    "\n",
    "    dataset = tfds.load(dataset_name, data_dir='../.data')\n",
    "    \n",
    "    x_train, y_train = list(zip(*((sample['image'], sample['label']) for sample in dataset['train'])))\n",
    "    x_train = np.stack(x_train)\n",
    "    y_train = np.stack(y_train)\n",
    "\n",
    "    if fraction < 1:\n",
    "        train_size = int(len(x_train) * fraction)\n",
    "        x_train, y_train = x_train[:train_size], y_train[:train_size]\n",
    "\n",
    "    # Process test data\n",
    "    x_test, y_test = list(zip(*((sample['image'], sample['label']) for sample in dataset['test'])))\n",
    "    x_test = np.stack(x_test)\n",
    "    y_test = np.stack(y_test)\n",
    "\n",
    "\n",
    "    # Reduce the size of the test data\n",
    "\n",
    "    if fraction < 1:\n",
    "        test_size = int(len(x_test) * fraction)\n",
    "        x_test, y_test = x_test[:test_size], y_test[:test_size]\n",
    "\n",
    "    # Split the test data into test and validation data\n",
    "    x_test, x_val, y_test, y_val = train_test_split(x_test, y_test, test_size=0.5, random_state=42)\n",
    "\n",
    "    \n",
    "    # Convert labels to categorical\n",
    "    y_train = to_categorical(y_train, num_classes=num_classes)\n",
    "    y_test = to_categorical(y_test, num_classes=num_classes)\n",
    "    y_val = to_categorical(y_val, num_classes=num_classes)\n",
    "\n",
    "    for arr, filename in [\n",
    "            (x_train, 'x_train.npy'),\n",
    "            (y_train, 'y_train.npy'),\n",
    "            (x_test, 'x_test.npy'),\n",
    "            (y_test, 'y_test.npy'),\n",
    "            (x_val, 'x_valid.npy'),\n",
    "            (y_val, 'y_valid.npy')]:\n",
    "        np.save(data_dir / filename, arr)\n",
    "\n",
    "if __name__ == \"__main__\":\n",
    "    for dataset_name, (num_classes, data_dir) in DATASETS.items():\n",
    "        process_and_save_dataset(dataset_name, num_classes, data_dir)\n",
    "        print(f\"Processed and saved {dataset_name} dataset\")\n"
   ]
  },
  {
   "cell_type": "code",
   "execution_count": null,
   "metadata": {},
   "outputs": [],
   "source": []
  }
 ],
 "metadata": {
  "kernelspec": {
   "display_name": "ML_ENV",
   "language": "python",
   "name": "python3"
  },
  "language_info": {
   "codemirror_mode": {
    "name": "ipython",
    "version": 3
   },
   "file_extension": ".py",
   "mimetype": "text/x-python",
   "name": "python",
   "nbconvert_exporter": "python",
   "pygments_lexer": "ipython3",
   "version": "3.7.7"
  },
  "orig_nbformat": 4
 },
 "nbformat": 4,
 "nbformat_minor": 2
}
