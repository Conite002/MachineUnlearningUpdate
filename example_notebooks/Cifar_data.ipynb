{
 "cells": [
  {
   "cell_type": "code",
   "execution_count": null,
   "metadata": {},
   "outputs": [],
   "source": [
    "import sys\n",
    "sys.path.append('../')"
   ]
  },
  {
   "cell_type": "code",
   "execution_count": null,
   "metadata": {},
   "outputs": [],
   "source": [
    "import numpy as np\n",
    "import tensorflow_datasets as tfds\n",
    "\n",
    "\n",
    "data_dir = '../.data'\n",
    "cifar = tfds.load('cifar10', data_dir=data_dir)"
   ]
  },
  {
   "cell_type": "code",
   "execution_count": null,
   "metadata": {},
   "outputs": [],
   "source": [
    "x_train, y_train = list(zip(*((sample['image'], sample['label']) for sample in cifar['train'])))\n",
    "x_train = np.stack(x_train)\n",
    "y_train = np.stack(y_train)\n",
    "\n",
    "\n",
    "x_test, y_test = list(zip(*((sample['image'], sample['label']) for sample in cifar['test'])))\n",
    "x_test = np.stack(x_test)\n",
    "y_test = np.stack(y_test)"
   ]
  },
  {
   "cell_type": "code",
   "execution_count": null,
   "metadata": {},
   "outputs": [],
   "source": [
    "from tensorflow.keras.utils import to_categorical\n",
    "from sklearn.model_selection import train_test_split\n",
    "\n",
    "x_test, x_val, y_test, y_val = train_test_split(x_test, y_test, test_size=0.5, random_state=42)\n",
    "\n",
    "\n",
    "n_classes = 10\n",
    "y_train = to_categorical(y_train, num_classes=n_classes)\n",
    "y_test = to_categorical(y_test, num_classes=n_classes)\n",
    "y_val = to_categorical(y_val, num_classes=n_classes)"
   ]
  },
  {
   "cell_type": "code",
   "execution_count": null,
   "metadata": {},
   "outputs": [],
   "source": [
    "from conf import BASE_DIR\n",
    "\n",
    "data_dir = BASE_DIR/'train_test_data'/'Cifar-test'\n",
    "data_dir.mkdir(parents=True, exist_ok=True)\n",
    "\n",
    "for arr, filename in [\n",
    "        (x_train, 'x_train.npy'),\n",
    "        (y_train, 'y_train.npy'),\n",
    "        (x_test, 'x_test.npy'),\n",
    "        (y_test, 'y_test.npy'),\n",
    "        (x_val, 'x_valid.npy'),\n",
    "        (y_val, 'y_valid.npy')]:\n",
    "    np.save(data_dir/filename, arr)"
   ]
  }
 ],
 "metadata": {
  "language_info": {
   "name": "python"
  },
  "orig_nbformat": 4
 },
 "nbformat": 4,
 "nbformat_minor": 2
}
